{
 "cells": [
  {
   "cell_type": "code",
   "execution_count": 40,
   "id": "extra-oklahoma",
   "metadata": {},
   "outputs": [],
   "source": [
    "import env\n",
    "import pandas as pd\n",
    "import pyspark\n",
    "\n",
    "from pyspark.sql.functions import concat, sum, avg, min, max, count, mean, lit, when, asc, desc, expr\n",
    "\n",
    "spark = pyspark.sql.SparkSession.builder.getOrCreate()"
   ]
  },
  {
   "cell_type": "markdown",
   "id": "conscious-drink",
   "metadata": {},
   "source": [
    "1. Create a spark data frame that contains your favorite programming languages.\n",
    "* The name of the column should be language"
   ]
  },
  {
   "cell_type": "code",
   "execution_count": 14,
   "id": "general-batman",
   "metadata": {},
   "outputs": [
    {
     "data": {
      "text/html": [
       "<div>\n",
       "<style scoped>\n",
       "    .dataframe tbody tr th:only-of-type {\n",
       "        vertical-align: middle;\n",
       "    }\n",
       "\n",
       "    .dataframe tbody tr th {\n",
       "        vertical-align: top;\n",
       "    }\n",
       "\n",
       "    .dataframe thead th {\n",
       "        text-align: right;\n",
       "    }\n",
       "</style>\n",
       "<table border=\"1\" class=\"dataframe\">\n",
       "  <thead>\n",
       "    <tr style=\"text-align: right;\">\n",
       "      <th></th>\n",
       "      <th>language</th>\n",
       "    </tr>\n",
       "  </thead>\n",
       "  <tbody>\n",
       "    <tr>\n",
       "      <th>0</th>\n",
       "      <td>java</td>\n",
       "    </tr>\n",
       "    <tr>\n",
       "      <th>1</th>\n",
       "      <td>python</td>\n",
       "    </tr>\n",
       "    <tr>\n",
       "      <th>2</th>\n",
       "      <td>javascript</td>\n",
       "    </tr>\n",
       "    <tr>\n",
       "      <th>3</th>\n",
       "      <td>html</td>\n",
       "    </tr>\n",
       "    <tr>\n",
       "      <th>4</th>\n",
       "      <td>css</td>\n",
       "    </tr>\n",
       "    <tr>\n",
       "      <th>5</th>\n",
       "      <td>sql</td>\n",
       "    </tr>\n",
       "  </tbody>\n",
       "</table>\n",
       "</div>"
      ],
      "text/plain": [
       "     language\n",
       "0        java\n",
       "1      python\n",
       "2  javascript\n",
       "3        html\n",
       "4         css\n",
       "5         sql"
      ]
     },
     "execution_count": 14,
     "metadata": {},
     "output_type": "execute_result"
    }
   ],
   "source": [
    "languages_pandas_df = pd.DataFrame([\"java\", \"python\", \"javascript\", \"html\", \"css\", \"sql\"])\n",
    "languages_pandas_df.columns = ['language']\n",
    "languages_pandas_df"
   ]
  },
  {
   "cell_type": "code",
   "execution_count": 16,
   "id": "macro-champion",
   "metadata": {},
   "outputs": [],
   "source": [
    "langauges_df = spark.createDataFrame(languages_pandas_df)"
   ]
  },
  {
   "cell_type": "code",
   "execution_count": 16,
   "id": "binding-exemption",
   "metadata": {},
   "outputs": [
    {
     "name": "stdout",
     "output_type": "stream",
     "text": [
      "+----------+\n",
      "|  language|\n",
      "+----------+\n",
      "|      java|\n",
      "|    python|\n",
      "|javascript|\n",
      "|      html|\n",
      "|       css|\n",
      "|       sql|\n",
      "+----------+\n",
      "\n"
     ]
    }
   ],
   "source": [
    "langauges_df.select(\"*\").show()"
   ]
  },
  {
   "cell_type": "markdown",
   "id": "motivated-charm",
   "metadata": {},
   "source": [
    "* View the schema of the dataframe"
   ]
  },
  {
   "cell_type": "code",
   "execution_count": 17,
   "id": "separated-myrtle",
   "metadata": {},
   "outputs": [
    {
     "name": "stdout",
     "output_type": "stream",
     "text": [
      "root\n",
      " |-- language: string (nullable = true)\n",
      "\n"
     ]
    }
   ],
   "source": [
    "langauges_df.printSchema()"
   ]
  },
  {
   "cell_type": "markdown",
   "id": "african-range",
   "metadata": {},
   "source": [
    "* Output the shape of the dataframe"
   ]
  },
  {
   "cell_type": "code",
   "execution_count": 13,
   "id": "modern-inclusion",
   "metadata": {},
   "outputs": [
    {
     "name": "stdout",
     "output_type": "stream",
     "text": [
      "+-------+--------+\n",
      "|summary|language|\n",
      "+-------+--------+\n",
      "|  count|       6|\n",
      "|   mean|    null|\n",
      "| stddev|    null|\n",
      "|    min|     css|\n",
      "|    max|     sql|\n",
      "+-------+--------+\n",
      "\n"
     ]
    }
   ],
   "source": [
    "langauges_df.select(langauges_df.language).describe().show()"
   ]
  },
  {
   "cell_type": "markdown",
   "id": "american-fence",
   "metadata": {},
   "source": [
    "* Show the first 5 records in the dataframe"
   ]
  },
  {
   "cell_type": "code",
   "execution_count": 19,
   "id": "clean-puppy",
   "metadata": {},
   "outputs": [
    {
     "name": "stdout",
     "output_type": "stream",
     "text": [
      "+----------+\n",
      "|  language|\n",
      "+----------+\n",
      "|      java|\n",
      "|    python|\n",
      "|javascript|\n",
      "|      html|\n",
      "|       css|\n",
      "+----------+\n",
      "only showing top 5 rows\n",
      "\n"
     ]
    }
   ],
   "source": [
    "langauges_df.select(\"*\").show(5)"
   ]
  },
  {
   "cell_type": "markdown",
   "id": "pursuant-samba",
   "metadata": {},
   "source": [
    "2. Load the mpg dataset as a spark dataframe."
   ]
  },
  {
   "cell_type": "code",
   "execution_count": 20,
   "id": "speaking-symphony",
   "metadata": {},
   "outputs": [],
   "source": [
    "from pydataset import data"
   ]
  },
  {
   "cell_type": "code",
   "execution_count": 21,
   "id": "sapphire-station",
   "metadata": {},
   "outputs": [],
   "source": [
    "mpg_pandas_df = data('mpg')"
   ]
  },
  {
   "cell_type": "code",
   "execution_count": 22,
   "id": "familiar-tanzania",
   "metadata": {},
   "outputs": [
    {
     "name": "stdout",
     "output_type": "stream",
     "text": [
      "+------------+-----+-----+----+---+----------+---+---+---+---+-------+\n",
      "|manufacturer|model|displ|year|cyl|     trans|drv|cty|hwy| fl|  class|\n",
      "+------------+-----+-----+----+---+----------+---+---+---+---+-------+\n",
      "|        audi|   a4|  1.8|1999|  4|  auto(l5)|  f| 18| 29|  p|compact|\n",
      "|        audi|   a4|  1.8|1999|  4|manual(m5)|  f| 21| 29|  p|compact|\n",
      "|        audi|   a4|  2.0|2008|  4|manual(m6)|  f| 20| 31|  p|compact|\n",
      "|        audi|   a4|  2.0|2008|  4|  auto(av)|  f| 21| 30|  p|compact|\n",
      "|        audi|   a4|  2.8|1999|  6|  auto(l5)|  f| 16| 26|  p|compact|\n",
      "+------------+-----+-----+----+---+----------+---+---+---+---+-------+\n",
      "only showing top 5 rows\n",
      "\n"
     ]
    }
   ],
   "source": [
    "mpg_df = spark.createDataFrame(mpg_pandas_df)\n",
    "mpg_df.select(\"*\").show(5)"
   ]
  },
  {
   "cell_type": "markdown",
   "id": "faced-vaccine",
   "metadata": {},
   "source": [
    "* Create 1 column of output that contains a message for each vehicle like the one below:\n",
    "> `The 1999 audi a4 has a 4 cylinder engine.`"
   ]
  },
  {
   "cell_type": "code",
   "execution_count": 39,
   "id": "measured-judge",
   "metadata": {},
   "outputs": [
    {
     "name": "stdout",
     "output_type": "stream",
     "text": [
      "+------------+-----+-----+----+---+----------+---+---+---+---+-------+-----------------------------------------+\n",
      "|manufacturer|model|displ|year|cyl|trans     |drv|cty|hwy|fl |class  |engine_description                       |\n",
      "+------------+-----+-----+----+---+----------+---+---+---+---+-------+-----------------------------------------+\n",
      "|audi        |a4   |1.8  |1999|4  |auto(l5)  |f  |18 |29 |p  |compact|The 1999 audi a4 has a 4 cylinder engine.|\n",
      "|audi        |a4   |1.8  |1999|4  |manual(m5)|f  |21 |29 |p  |compact|The 1999 audi a4 has a 4 cylinder engine.|\n",
      "|audi        |a4   |2.0  |2008|4  |manual(m6)|f  |20 |31 |p  |compact|The 2008 audi a4 has a 4 cylinder engine.|\n",
      "|audi        |a4   |2.0  |2008|4  |auto(av)  |f  |21 |30 |p  |compact|The 2008 audi a4 has a 4 cylinder engine.|\n",
      "|audi        |a4   |2.8  |1999|6  |auto(l5)  |f  |16 |26 |p  |compact|The 1999 audi a4 has a 6 cylinder engine.|\n",
      "+------------+-----+-----+----+---+----------+---+---+---+---+-------+-----------------------------------------+\n",
      "only showing top 5 rows\n",
      "\n"
     ]
    }
   ],
   "source": [
    "mpg_df = mpg_df.select( \"*\",\n",
    "    concat(\n",
    "        lit(\"The \"), mpg_df.year, lit(\" \"), mpg_df.manufacturer, lit(\" \"), mpg_df.model, lit(\" has a \"), mpg_df.cyl, lit(\" cylinder engine.\")\n",
    "    ).alias(\"engine_description\")\n",
    ")\n",
    "\n",
    "mpg_df.show(5, truncate=False)"
   ]
  },
  {
   "cell_type": "markdown",
   "id": "driving-dayton",
   "metadata": {},
   "source": [
    "* Transform the trans column so that it only contains either manual or auto."
   ]
  },
  {
   "cell_type": "code",
   "execution_count": 50,
   "id": "romantic-messenger",
   "metadata": {},
   "outputs": [
    {
     "name": "stdout",
     "output_type": "stream",
     "text": [
      "+------+\n",
      "| trans|\n",
      "+------+\n",
      "|  auto|\n",
      "|manual|\n",
      "|manual|\n",
      "|  auto|\n",
      "|  auto|\n",
      "|manual|\n",
      "|  auto|\n",
      "|manual|\n",
      "|  auto|\n",
      "|manual|\n",
      "|  auto|\n",
      "|  auto|\n",
      "|manual|\n",
      "|  auto|\n",
      "|manual|\n",
      "|  auto|\n",
      "|  auto|\n",
      "|  auto|\n",
      "|  auto|\n",
      "|  auto|\n",
      "+------+\n",
      "only showing top 20 rows\n",
      "\n"
     ]
    }
   ],
   "source": [
    "mpg_df.select(when(expr(\"trans LIKE 'auto%'\"), \"auto\").otherwise(\"manual\").alias(\"trans\")).show()"
   ]
  },
  {
   "cell_type": "code",
   "execution_count": 48,
   "id": "downtown-wildlife",
   "metadata": {},
   "outputs": [],
   "source": []
  },
  {
   "cell_type": "code",
   "execution_count": null,
   "id": "absent-administration",
   "metadata": {},
   "outputs": [],
   "source": []
  }
 ],
 "metadata": {
  "kernelspec": {
   "display_name": "Python 3",
   "language": "python",
   "name": "python3"
  },
  "language_info": {
   "codemirror_mode": {
    "name": "ipython",
    "version": 3
   },
   "file_extension": ".py",
   "mimetype": "text/x-python",
   "name": "python",
   "nbconvert_exporter": "python",
   "pygments_lexer": "ipython3",
   "version": "3.8.5"
  }
 },
 "nbformat": 4,
 "nbformat_minor": 5
}
