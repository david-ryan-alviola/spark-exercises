{
 "cells": [
  {
   "cell_type": "code",
   "execution_count": 40,
   "id": "structured-people",
   "metadata": {},
   "outputs": [],
   "source": [
    "import env\n",
    "import pandas as pd\n",
    "import pyspark\n",
    "\n",
    "from pyspark.sql.functions import concat, sum, avg, min, max, count, mean, lit, when, asc, desc, expr\n",
    "\n",
    "spark = pyspark.sql.SparkSession.builder.getOrCreate()"
   ]
  },
  {
   "cell_type": "markdown",
   "id": "intellectual-cedar",
   "metadata": {},
   "source": [
    "1. Create a spark data frame that contains your favorite programming languages.\n",
    "* The name of the column should be language"
   ]
  },
  {
   "cell_type": "code",
   "execution_count": 14,
   "id": "massive-mountain",
   "metadata": {},
   "outputs": [
    {
     "data": {
      "text/html": [
       "<div>\n",
       "<style scoped>\n",
       "    .dataframe tbody tr th:only-of-type {\n",
       "        vertical-align: middle;\n",
       "    }\n",
       "\n",
       "    .dataframe tbody tr th {\n",
       "        vertical-align: top;\n",
       "    }\n",
       "\n",
       "    .dataframe thead th {\n",
       "        text-align: right;\n",
       "    }\n",
       "</style>\n",
       "<table border=\"1\" class=\"dataframe\">\n",
       "  <thead>\n",
       "    <tr style=\"text-align: right;\">\n",
       "      <th></th>\n",
       "      <th>language</th>\n",
       "    </tr>\n",
       "  </thead>\n",
       "  <tbody>\n",
       "    <tr>\n",
       "      <th>0</th>\n",
       "      <td>java</td>\n",
       "    </tr>\n",
       "    <tr>\n",
       "      <th>1</th>\n",
       "      <td>python</td>\n",
       "    </tr>\n",
       "    <tr>\n",
       "      <th>2</th>\n",
       "      <td>javascript</td>\n",
       "    </tr>\n",
       "    <tr>\n",
       "      <th>3</th>\n",
       "      <td>html</td>\n",
       "    </tr>\n",
       "    <tr>\n",
       "      <th>4</th>\n",
       "      <td>css</td>\n",
       "    </tr>\n",
       "    <tr>\n",
       "      <th>5</th>\n",
       "      <td>sql</td>\n",
       "    </tr>\n",
       "  </tbody>\n",
       "</table>\n",
       "</div>"
      ],
      "text/plain": [
       "     language\n",
       "0        java\n",
       "1      python\n",
       "2  javascript\n",
       "3        html\n",
       "4         css\n",
       "5         sql"
      ]
     },
     "execution_count": 14,
     "metadata": {},
     "output_type": "execute_result"
    }
   ],
   "source": [
    "languages_pandas_df = pd.DataFrame([\"java\", \"python\", \"javascript\", \"html\", \"css\", \"sql\"])\n",
    "languages_pandas_df.columns = ['language']\n",
    "languages_pandas_df"
   ]
  },
  {
   "cell_type": "code",
   "execution_count": 16,
   "id": "sonic-suspension",
   "metadata": {},
   "outputs": [],
   "source": [
    "langauges_df = spark.createDataFrame(languages_pandas_df)"
   ]
  },
  {
   "cell_type": "code",
   "execution_count": 16,
   "id": "spiritual-terminology",
   "metadata": {},
   "outputs": [
    {
     "name": "stdout",
     "output_type": "stream",
     "text": [
      "+----------+\n",
      "|  language|\n",
      "+----------+\n",
      "|      java|\n",
      "|    python|\n",
      "|javascript|\n",
      "|      html|\n",
      "|       css|\n",
      "|       sql|\n",
      "+----------+\n",
      "\n"
     ]
    }
   ],
   "source": [
    "langauges_df.select(\"*\").show()"
   ]
  },
  {
   "cell_type": "markdown",
   "id": "offshore-sugar",
   "metadata": {},
   "source": [
    "* View the schema of the dataframe"
   ]
  },
  {
   "cell_type": "code",
   "execution_count": 17,
   "id": "coupled-field",
   "metadata": {},
   "outputs": [
    {
     "name": "stdout",
     "output_type": "stream",
     "text": [
      "root\n",
      " |-- language: string (nullable = true)\n",
      "\n"
     ]
    }
   ],
   "source": [
    "langauges_df.printSchema()"
   ]
  },
  {
   "cell_type": "markdown",
   "id": "obvious-stroke",
   "metadata": {},
   "source": [
    "* Output the shape of the dataframe"
   ]
  },
  {
   "cell_type": "code",
   "execution_count": 13,
   "id": "scheduled-mouse",
   "metadata": {},
   "outputs": [
    {
     "name": "stdout",
     "output_type": "stream",
     "text": [
      "+-------+--------+\n",
      "|summary|language|\n",
      "+-------+--------+\n",
      "|  count|       6|\n",
      "|   mean|    null|\n",
      "| stddev|    null|\n",
      "|    min|     css|\n",
      "|    max|     sql|\n",
      "+-------+--------+\n",
      "\n"
     ]
    }
   ],
   "source": [
    "langauges_df.select(langauges_df.language).describe().show()"
   ]
  },
  {
   "cell_type": "markdown",
   "id": "finnish-soviet",
   "metadata": {},
   "source": [
    "* Show the first 5 records in the dataframe"
   ]
  },
  {
   "cell_type": "code",
   "execution_count": 19,
   "id": "front-induction",
   "metadata": {},
   "outputs": [
    {
     "name": "stdout",
     "output_type": "stream",
     "text": [
      "+----------+\n",
      "|  language|\n",
      "+----------+\n",
      "|      java|\n",
      "|    python|\n",
      "|javascript|\n",
      "|      html|\n",
      "|       css|\n",
      "+----------+\n",
      "only showing top 5 rows\n",
      "\n"
     ]
    }
   ],
   "source": [
    "langauges_df.select(\"*\").show(5)"
   ]
  },
  {
   "cell_type": "markdown",
   "id": "comfortable-transportation",
   "metadata": {},
   "source": [
    "2. Load the mpg dataset as a spark dataframe."
   ]
  },
  {
   "cell_type": "code",
   "execution_count": 20,
   "id": "designed-combat",
   "metadata": {},
   "outputs": [],
   "source": [
    "from pydataset import data"
   ]
  },
  {
   "cell_type": "code",
   "execution_count": 21,
   "id": "sought-standing",
   "metadata": {},
   "outputs": [],
   "source": [
    "mpg_pandas_df = data('mpg')"
   ]
  },
  {
   "cell_type": "code",
   "execution_count": 22,
   "id": "applicable-louis",
   "metadata": {},
   "outputs": [
    {
     "name": "stdout",
     "output_type": "stream",
     "text": [
      "+------------+-----+-----+----+---+----------+---+---+---+---+-------+\n",
      "|manufacturer|model|displ|year|cyl|     trans|drv|cty|hwy| fl|  class|\n",
      "+------------+-----+-----+----+---+----------+---+---+---+---+-------+\n",
      "|        audi|   a4|  1.8|1999|  4|  auto(l5)|  f| 18| 29|  p|compact|\n",
      "|        audi|   a4|  1.8|1999|  4|manual(m5)|  f| 21| 29|  p|compact|\n",
      "|        audi|   a4|  2.0|2008|  4|manual(m6)|  f| 20| 31|  p|compact|\n",
      "|        audi|   a4|  2.0|2008|  4|  auto(av)|  f| 21| 30|  p|compact|\n",
      "|        audi|   a4|  2.8|1999|  6|  auto(l5)|  f| 16| 26|  p|compact|\n",
      "+------------+-----+-----+----+---+----------+---+---+---+---+-------+\n",
      "only showing top 5 rows\n",
      "\n"
     ]
    }
   ],
   "source": [
    "mpg_df = spark.createDataFrame(mpg_pandas_df)\n",
    "mpg_df.select(\"*\").show(5)"
   ]
  },
  {
   "cell_type": "markdown",
   "id": "raised-vienna",
   "metadata": {},
   "source": [
    "* Create 1 column of output that contains a message for each vehicle like the one below:\n",
    "> `The 1999 audi a4 has a 4 cylinder engine.`"
   ]
  },
  {
   "cell_type": "code",
   "execution_count": 39,
   "id": "transparent-relaxation",
   "metadata": {},
   "outputs": [
    {
     "name": "stdout",
     "output_type": "stream",
     "text": [
      "+------------+-----+-----+----+---+----------+---+---+---+---+-------+-----------------------------------------+\n",
      "|manufacturer|model|displ|year|cyl|trans     |drv|cty|hwy|fl |class  |engine_description                       |\n",
      "+------------+-----+-----+----+---+----------+---+---+---+---+-------+-----------------------------------------+\n",
      "|audi        |a4   |1.8  |1999|4  |auto(l5)  |f  |18 |29 |p  |compact|The 1999 audi a4 has a 4 cylinder engine.|\n",
      "|audi        |a4   |1.8  |1999|4  |manual(m5)|f  |21 |29 |p  |compact|The 1999 audi a4 has a 4 cylinder engine.|\n",
      "|audi        |a4   |2.0  |2008|4  |manual(m6)|f  |20 |31 |p  |compact|The 2008 audi a4 has a 4 cylinder engine.|\n",
      "|audi        |a4   |2.0  |2008|4  |auto(av)  |f  |21 |30 |p  |compact|The 2008 audi a4 has a 4 cylinder engine.|\n",
      "|audi        |a4   |2.8  |1999|6  |auto(l5)  |f  |16 |26 |p  |compact|The 1999 audi a4 has a 6 cylinder engine.|\n",
      "+------------+-----+-----+----+---+----------+---+---+---+---+-------+-----------------------------------------+\n",
      "only showing top 5 rows\n",
      "\n"
     ]
    }
   ],
   "source": [
    "mpg_df = mpg_df.select( \"*\",\n",
    "    concat(\n",
    "        lit(\"The \"), mpg_df.year, lit(\" \"), mpg_df.manufacturer, lit(\" \"), mpg_df.model, lit(\" has a \"), mpg_df.cyl, lit(\" cylinder engine.\")\n",
    "    ).alias(\"engine_description\")\n",
    ")\n",
    "\n",
    "mpg_df.show(5, truncate=False)"
   ]
  },
  {
   "cell_type": "markdown",
   "id": "scenic-supplier",
   "metadata": {},
   "source": [
    "* Transform the trans column so that it only contains either manual or auto."
   ]
  },
  {
   "cell_type": "code",
   "execution_count": 50,
   "id": "ultimate-portable",
   "metadata": {},
   "outputs": [
    {
     "name": "stdout",
     "output_type": "stream",
     "text": [
      "+------+\n",
      "| trans|\n",
      "+------+\n",
      "|  auto|\n",
      "|manual|\n",
      "|manual|\n",
      "|  auto|\n",
      "|  auto|\n",
      "|manual|\n",
      "|  auto|\n",
      "|manual|\n",
      "|  auto|\n",
      "|manual|\n",
      "|  auto|\n",
      "|  auto|\n",
      "|manual|\n",
      "|  auto|\n",
      "|manual|\n",
      "|  auto|\n",
      "|  auto|\n",
      "|  auto|\n",
      "|  auto|\n",
      "|  auto|\n",
      "+------+\n",
      "only showing top 20 rows\n",
      "\n"
     ]
    }
   ],
   "source": [
    "mpg_df.select(when(expr(\"trans LIKE 'auto%'\"), \"auto\").otherwise(\"manual\").alias(\"trans\")).show()"
   ]
  },
  {
   "cell_type": "markdown",
   "id": "cloudy-slope",
   "metadata": {},
   "source": [
    "3. Load the tips dataset as a spark dataframe."
   ]
  },
  {
   "cell_type": "code",
   "execution_count": 51,
   "id": "electoral-second",
   "metadata": {},
   "outputs": [],
   "source": [
    "tips_pandas_df = data(\"tips\")\n",
    "tips_df = spark.createDataFrame(tips_pandas_df)"
   ]
  },
  {
   "cell_type": "markdown",
   "id": "victorian-comfort",
   "metadata": {},
   "source": [
    "* What percentage of observations are smokers?"
   ]
  },
  {
   "cell_type": "code",
   "execution_count": 70,
   "id": "composite-celebration",
   "metadata": {},
   "outputs": [
    {
     "name": "stdout",
     "output_type": "stream",
     "text": [
      "38.11% are smokers\n"
     ]
    }
   ],
   "source": [
    "print(f'{round((tips_df.where(tips_df.smoker == \"Yes\").count() / tips_df.count()) * 100, 2)}% are smokers')"
   ]
  },
  {
   "cell_type": "markdown",
   "id": "competitive-namibia",
   "metadata": {},
   "source": [
    "* Create a column that contains the tip percentage"
   ]
  },
  {
   "cell_type": "code",
   "execution_count": 78,
   "id": "violent-lyric",
   "metadata": {},
   "outputs": [
    {
     "name": "stdout",
     "output_type": "stream",
     "text": [
      "+----------+----+------+------+---+------+----+-------------------+\n",
      "|total_bill| tip|   sex|smoker|day|  time|size|            tip_pct|\n",
      "+----------+----+------+------+---+------+----+-------------------+\n",
      "|     16.99|1.01|Female|    No|Sun|Dinner|   2|0.05944673337257211|\n",
      "|     10.34|1.66|  Male|    No|Sun|Dinner|   3|0.16054158607350097|\n",
      "|     21.01| 3.5|  Male|    No|Sun|Dinner|   3|0.16658733936220846|\n",
      "|     23.68|3.31|  Male|    No|Sun|Dinner|   2| 0.1397804054054054|\n",
      "|     24.59|3.61|Female|    No|Sun|Dinner|   4|0.14680764538430255|\n",
      "|     25.29|4.71|  Male|    No|Sun|Dinner|   4|0.18623962040332148|\n",
      "|      8.77| 2.0|  Male|    No|Sun|Dinner|   2|0.22805017103762829|\n",
      "|     26.88|3.12|  Male|    No|Sun|Dinner|   4|0.11607142857142858|\n",
      "|     15.04|1.96|  Male|    No|Sun|Dinner|   2|0.13031914893617022|\n",
      "|     14.78|3.23|  Male|    No|Sun|Dinner|   2| 0.2185385656292287|\n",
      "|     10.27|1.71|  Male|    No|Sun|Dinner|   2| 0.1665043816942551|\n",
      "|     35.26| 5.0|Female|    No|Sun|Dinner|   4|0.14180374361883155|\n",
      "|     15.42|1.57|  Male|    No|Sun|Dinner|   2|0.10181582360570687|\n",
      "|     18.43| 3.0|  Male|    No|Sun|Dinner|   4|0.16277807921866522|\n",
      "|     14.83|3.02|Female|    No|Sun|Dinner|   2|0.20364126770060686|\n",
      "|     21.58|3.92|  Male|    No|Sun|Dinner|   2|0.18164967562557924|\n",
      "|     10.33|1.67|Female|    No|Sun|Dinner|   3| 0.1616650532429816|\n",
      "|     16.29|3.71|  Male|    No|Sun|Dinner|   3|0.22774708410067526|\n",
      "|     16.97| 3.5|Female|    No|Sun|Dinner|   3|0.20624631703005306|\n",
      "|     20.65|3.35|  Male|    No|Sat|Dinner|   3|0.16222760290556903|\n",
      "+----------+----+------+------+---+------+----+-------------------+\n",
      "only showing top 20 rows\n",
      "\n"
     ]
    }
   ],
   "source": [
    "tips_df = tips_df.select(\"*\",\n",
    "    (tips_df.tip / tips_df.total_bill).alias('tip_pct')\n",
    ")\n",
    "\n",
    "tips_df.select(\"*\").show()"
   ]
  },
  {
   "cell_type": "markdown",
   "id": "gothic-slide",
   "metadata": {},
   "source": [
    "* Calculate the average tip percentage for each combination of sex and smoker."
   ]
  },
  {
   "cell_type": "code",
   "execution_count": 85,
   "id": "designed-respondent",
   "metadata": {},
   "outputs": [
    {
     "name": "stdout",
     "output_type": "stream",
     "text": [
      "+------+------+-------------------+\n",
      "|   sex|smoker|       avg(tip_pct)|\n",
      "+------+------+-------------------+\n",
      "|  Male|    No| 0.1606687151291298|\n",
      "|  Male|   Yes| 0.1527711752024851|\n",
      "|Female|    No| 0.1569209707691836|\n",
      "|Female|   Yes|0.18215035269941035|\n",
      "+------+------+-------------------+\n",
      "\n"
     ]
    }
   ],
   "source": [
    "tips_df.groupBy('sex', 'smoker').mean('tip_pct').alias('avg_tip_pct').show()"
   ]
  },
  {
   "cell_type": "markdown",
   "id": "departmental-marketplace",
   "metadata": {},
   "source": [
    "4. Use the seattle weather dataset referenced in the lesson to answer the questions below."
   ]
  },
  {
   "cell_type": "code",
   "execution_count": 91,
   "id": "indie-collective",
   "metadata": {},
   "outputs": [],
   "source": [
    "from vega_datasets import data as vdata\n",
    "\n",
    "weather_pandas_df = vdata.seattle_weather().assign(date=lambda df: df.date.astype(str))\n",
    "weather_df = spark.createDataFrame(weather_pandas_df)"
   ]
  },
  {
   "cell_type": "markdown",
   "id": "amber-planning",
   "metadata": {},
   "source": [
    "* Convert the temperatures to fahrenheight."
   ]
  },
  {
   "cell_type": "code",
   "execution_count": 96,
   "id": "olympic-transportation",
   "metadata": {},
   "outputs": [
    {
     "name": "stdout",
     "output_type": "stream",
     "text": [
      "+----------+-------------+--------+--------+----+-------+------------------+------------------+\n",
      "|      date|precipitation|temp_max|temp_min|wind|weather|        temp_max_F|        temp_min_F|\n",
      "+----------+-------------+--------+--------+----+-------+------------------+------------------+\n",
      "|2012-01-01|          0.0|    12.8|     5.0| 4.7|drizzle|55.040000000000006|              41.0|\n",
      "|2012-01-02|         10.9|    10.6|     2.8| 4.5|   rain|             51.08|             37.04|\n",
      "|2012-01-03|          0.8|    11.7|     7.2| 2.3|   rain|             53.06|             44.96|\n",
      "|2012-01-04|         20.3|    12.2|     5.6| 4.7|   rain|             53.96|             42.08|\n",
      "|2012-01-05|          1.3|     8.9|     2.8| 6.1|   rain|48.019999999999996|             37.04|\n",
      "|2012-01-06|          2.5|     4.4|     2.2| 2.2|   rain|             39.92|             35.96|\n",
      "|2012-01-07|          0.0|     7.2|     2.8| 2.3|   rain|             44.96|             37.04|\n",
      "|2012-01-08|          0.0|    10.0|     2.8| 2.0|    sun|              50.0|             37.04|\n",
      "|2012-01-09|          4.3|     9.4|     5.0| 3.4|   rain|             48.92|              41.0|\n",
      "|2012-01-10|          1.0|     6.1|     0.6| 3.4|   rain|42.980000000000004|             33.08|\n",
      "|2012-01-11|          0.0|     6.1|    -1.1| 5.1|    sun|42.980000000000004|             30.02|\n",
      "|2012-01-12|          0.0|     6.1|    -1.7| 1.9|    sun|42.980000000000004|             28.94|\n",
      "|2012-01-13|          0.0|     5.0|    -2.8| 1.3|    sun|              41.0|             26.96|\n",
      "|2012-01-14|          4.1|     4.4|     0.6| 5.3|   snow|             39.92|             33.08|\n",
      "|2012-01-15|          5.3|     1.1|    -3.3| 3.2|   snow|             33.98|26.060000000000002|\n",
      "|2012-01-16|          2.5|     1.7|    -2.8| 5.0|   snow|             35.06|             26.96|\n",
      "|2012-01-17|          8.1|     3.3|     0.0| 5.6|   snow|             37.94|              32.0|\n",
      "|2012-01-18|         19.8|     0.0|    -2.8| 5.0|   snow|              32.0|             26.96|\n",
      "|2012-01-19|         15.2|    -1.1|    -2.8| 1.6|   snow|             30.02|             26.96|\n",
      "|2012-01-20|         13.5|     7.2|    -1.1| 2.3|   snow|             44.96|             30.02|\n",
      "+----------+-------------+--------+--------+----+-------+------------------+------------------+\n",
      "only showing top 20 rows\n",
      "\n"
     ]
    }
   ],
   "source": [
    "weather_df = weather_df.select(\"*\",\n",
    "    (weather_df.temp_max * 1.8 + 32).alias('temp_max_F'),\n",
    "    (weather_df.temp_min * 1.8 + 32).alias('temp_min_F')\n",
    ")\n",
    "\n",
    "weather_df.show()"
   ]
  },
  {
   "cell_type": "markdown",
   "id": "accessory-brook",
   "metadata": {},
   "source": [
    "* Which month has the most rain, on average?"
   ]
  },
  {
   "cell_type": "code",
   "execution_count": 103,
   "id": "handled-cambodia",
   "metadata": {},
   "outputs": [
    {
     "name": "stdout",
     "output_type": "stream",
     "text": [
      "+----------+-------------+--------+--------+----+-------+------------------+------------------+-----+\n",
      "|      date|precipitation|temp_max|temp_min|wind|weather|        temp_max_F|        temp_min_F|month|\n",
      "+----------+-------------+--------+--------+----+-------+------------------+------------------+-----+\n",
      "|2012-01-01|          0.0|    12.8|     5.0| 4.7|drizzle|55.040000000000006|              41.0|    1|\n",
      "|2012-01-02|         10.9|    10.6|     2.8| 4.5|   rain|             51.08|             37.04|    1|\n",
      "|2012-01-03|          0.8|    11.7|     7.2| 2.3|   rain|             53.06|             44.96|    1|\n",
      "|2012-01-04|         20.3|    12.2|     5.6| 4.7|   rain|             53.96|             42.08|    1|\n",
      "|2012-01-05|          1.3|     8.9|     2.8| 6.1|   rain|48.019999999999996|             37.04|    1|\n",
      "|2012-01-06|          2.5|     4.4|     2.2| 2.2|   rain|             39.92|             35.96|    1|\n",
      "|2012-01-07|          0.0|     7.2|     2.8| 2.3|   rain|             44.96|             37.04|    1|\n",
      "|2012-01-08|          0.0|    10.0|     2.8| 2.0|    sun|              50.0|             37.04|    1|\n",
      "|2012-01-09|          4.3|     9.4|     5.0| 3.4|   rain|             48.92|              41.0|    1|\n",
      "|2012-01-10|          1.0|     6.1|     0.6| 3.4|   rain|42.980000000000004|             33.08|    1|\n",
      "|2012-01-11|          0.0|     6.1|    -1.1| 5.1|    sun|42.980000000000004|             30.02|    1|\n",
      "|2012-01-12|          0.0|     6.1|    -1.7| 1.9|    sun|42.980000000000004|             28.94|    1|\n",
      "|2012-01-13|          0.0|     5.0|    -2.8| 1.3|    sun|              41.0|             26.96|    1|\n",
      "|2012-01-14|          4.1|     4.4|     0.6| 5.3|   snow|             39.92|             33.08|    1|\n",
      "|2012-01-15|          5.3|     1.1|    -3.3| 3.2|   snow|             33.98|26.060000000000002|    1|\n",
      "|2012-01-16|          2.5|     1.7|    -2.8| 5.0|   snow|             35.06|             26.96|    1|\n",
      "|2012-01-17|          8.1|     3.3|     0.0| 5.6|   snow|             37.94|              32.0|    1|\n",
      "|2012-01-18|         19.8|     0.0|    -2.8| 5.0|   snow|              32.0|             26.96|    1|\n",
      "|2012-01-19|         15.2|    -1.1|    -2.8| 1.6|   snow|             30.02|             26.96|    1|\n",
      "|2012-01-20|         13.5|     7.2|    -1.1| 2.3|   snow|             44.96|             30.02|    1|\n",
      "+----------+-------------+--------+--------+----+-------+------------------+------------------+-----+\n",
      "only showing top 20 rows\n",
      "\n"
     ]
    }
   ],
   "source": [
    "from pyspark.sql.functions import month, year, quarter\n",
    "\n",
    "weather_df = weather_df.withColumn('month', month('date'))\n",
    "weather_df.show()"
   ]
  },
  {
   "cell_type": "code",
   "execution_count": 116,
   "id": "exposed-geneva",
   "metadata": {},
   "outputs": [
    {
     "name": "stdout",
     "output_type": "stream",
     "text": [
      "+-----+-------------------+\n",
      "|month| avg(precipitation)|\n",
      "+-----+-------------------+\n",
      "|   11|  5.354166666666667|\n",
      "|   12|  5.021774193548388|\n",
      "|    3|  4.888709677419355|\n",
      "|   10|  4.059677419354839|\n",
      "|    1| 3.7580645161290316|\n",
      "|    2|  3.734513274336283|\n",
      "|    4|  3.128333333333333|\n",
      "|    9| 1.9624999999999997|\n",
      "|    5| 1.6733870967741935|\n",
      "|    8| 1.3201612903225806|\n",
      "|    6| 1.1075000000000002|\n",
      "|    7|0.38870967741935486|\n",
      "+-----+-------------------+\n",
      "\n"
     ]
    }
   ],
   "source": [
    "weather_df.groupby('month').avg('precipitation').sort(desc('avg(precipitation)')).show()"
   ]
  },
  {
   "cell_type": "markdown",
   "id": "cooked-roommate",
   "metadata": {},
   "source": [
    "November is the rainiest month on average."
   ]
  },
  {
   "cell_type": "markdown",
   "id": "central-navigation",
   "metadata": {},
   "source": [
    "* Which year was the windiest?"
   ]
  },
  {
   "cell_type": "code",
   "execution_count": 118,
   "id": "dietary-showcase",
   "metadata": {},
   "outputs": [],
   "source": [
    "weather_df = weather_df.withColumn('year', year('date'))"
   ]
  },
  {
   "cell_type": "code",
   "execution_count": 126,
   "id": "furnished-century",
   "metadata": {},
   "outputs": [
    {
     "name": "stdout",
     "output_type": "stream",
     "text": [
      "+----+------------------+\n",
      "|year|         avg(wind)|\n",
      "+----+------------------+\n",
      "|2012| 3.400819672131147|\n",
      "|2014|3.3876712328767136|\n",
      "|2015|  3.15972602739726|\n",
      "|2013|3.0158904109589044|\n",
      "+----+------------------+\n",
      "\n"
     ]
    }
   ],
   "source": [
    "weather_df.groupby('year').avg('wind').sort(desc('avg(wind)')).show()"
   ]
  },
  {
   "cell_type": "markdown",
   "id": "terminal-party",
   "metadata": {},
   "source": [
    "2012 was the windiest year on average"
   ]
  },
  {
   "cell_type": "markdown",
   "id": "patient-slovakia",
   "metadata": {},
   "source": [
    "* What is the most frequent type of weather in January?"
   ]
  },
  {
   "cell_type": "code",
   "execution_count": 131,
   "id": "narrative-restriction",
   "metadata": {},
   "outputs": [
    {
     "name": "stdout",
     "output_type": "stream",
     "text": [
      "+-------------+-------+---+----+----+---+\n",
      "|month_weather|drizzle|fog|rain|snow|sun|\n",
      "+-------------+-------+---+----+----+---+\n",
      "|            1|     10| 38|  35|   8| 33|\n",
      "+-------------+-------+---+----+----+---+\n",
      "\n"
     ]
    }
   ],
   "source": [
    "weather_df.where(weather_df.month == 1).crosstab('month', 'weather').show()"
   ]
  },
  {
   "cell_type": "markdown",
   "id": "amended-messaging",
   "metadata": {},
   "source": [
    "Fog is the most frequent weather in January"
   ]
  },
  {
   "cell_type": "markdown",
   "id": "intelligent-radical",
   "metadata": {},
   "source": [
    "* What is the average high and low temperature on sunny days in July in 2013 and 2014?"
   ]
  },
  {
   "cell_type": "code",
   "execution_count": 141,
   "id": "persistent-thing",
   "metadata": {},
   "outputs": [
    {
     "name": "stdout",
     "output_type": "stream",
     "text": [
      "+----------+-------------+--------+--------+----+-------+-----------------+------------------+-----+----+\n",
      "|      date|precipitation|temp_max|temp_min|wind|weather|       temp_max_F|        temp_min_F|month|year|\n",
      "+----------+-------------+--------+--------+----+-------+-----------------+------------------+-----+----+\n",
      "|2013-07-01|          0.0|    31.7|    18.3| 2.3|    sun|            89.06|             64.94|    7|2013|\n",
      "|2013-07-02|          0.0|    28.3|    15.6| 3.0|    sun|            82.94|             60.08|    7|2013|\n",
      "|2013-07-03|          0.0|    26.1|    16.7| 3.2|    sun|            78.98|             62.06|    7|2013|\n",
      "|2013-07-05|          0.0|    23.3|    13.9| 2.6|    sun|            73.94|57.019999999999996|    7|2013|\n",
      "|2013-07-06|          0.0|    26.1|    13.3| 2.2|    sun|            78.98|             55.94|    7|2013|\n",
      "|2013-07-07|          0.0|    23.9|    13.9| 2.9|    sun|            75.02|57.019999999999996|    7|2013|\n",
      "|2013-07-08|          0.0|    26.7|    13.3| 2.8|    sun|            80.06|             55.94|    7|2013|\n",
      "|2013-07-09|          0.0|    30.0|    15.0| 2.5|    sun|             86.0|              59.0|    7|2013|\n",
      "|2013-07-10|          0.0|    22.2|    13.9| 2.6|    sun|71.96000000000001|57.019999999999996|    7|2013|\n",
      "|2013-07-11|          0.0|    22.8|    12.2| 3.0|    sun|73.03999999999999|             53.96|    7|2013|\n",
      "|2013-07-12|          0.0|    19.4|    13.3| 2.2|    sun|            66.92|             55.94|    7|2013|\n",
      "|2013-07-13|          0.0|    26.1|    11.1| 3.1|    sun|            78.98|51.980000000000004|    7|2013|\n",
      "|2013-07-14|          0.0|    27.8|    12.8| 3.0|    sun|82.03999999999999|55.040000000000006|    7|2013|\n",
      "|2013-07-15|          0.0|    27.8|    14.4| 4.6|    sun|82.03999999999999|             57.92|    7|2013|\n",
      "|2013-07-16|          0.0|    31.1|    18.3| 4.1|    sun|            87.98|             64.94|    7|2013|\n",
      "|2013-07-18|          0.0|    26.1|    13.9| 2.0|    sun|            78.98|57.019999999999996|    7|2013|\n",
      "|2013-07-19|          0.0|    27.8|    13.3| 1.9|    sun|82.03999999999999|             55.94|    7|2013|\n",
      "|2013-07-20|          0.0|    25.0|    13.3| 2.0|    sun|             77.0|             55.94|    7|2013|\n",
      "|2013-07-21|          0.0|    23.9|    12.8| 2.3|    sun|            75.02|55.040000000000006|    7|2013|\n",
      "|2013-07-23|          0.0|    31.1|    13.9| 3.0|    sun|            87.98|57.019999999999996|    7|2013|\n",
      "+----------+-------------+--------+--------+----+-------+-----------------+------------------+-----+----+\n",
      "only showing top 20 rows\n",
      "\n"
     ]
    }
   ],
   "source": [
    "sunny_july_13_14_df = weather_df\\\n",
    "    .where(weather_df.weather == \"sun\")\\\n",
    "    .where(weather_df.month == 7)\\\n",
    "    .where((weather_df.year == 2013) | (weather_df.year == 2014))\n",
    "\n",
    "sunny_july_13_14_df.show()"
   ]
  },
  {
   "cell_type": "code",
   "execution_count": 143,
   "id": "finished-month",
   "metadata": {},
   "outputs": [
    {
     "name": "stdout",
     "output_type": "stream",
     "text": [
      "+-----------------+-----------------+\n",
      "|   avg_max_temp_F|   avg_min_temp_F|\n",
      "+-----------------+-----------------+\n",
      "|80.29192307692308|57.52884615384615|\n",
      "+-----------------+-----------------+\n",
      "\n"
     ]
    }
   ],
   "source": [
    "sunny_july_13_14_df.select(avg('temp_max_F').alias('avg_max_temp_F'), avg('temp_min_F').alias('avg_min_temp_F')).show()"
   ]
  },
  {
   "cell_type": "markdown",
   "id": "surprised-amsterdam",
   "metadata": {},
   "source": [
    "* What percentage of days were rainy in q3 of 2015?"
   ]
  },
  {
   "cell_type": "code",
   "execution_count": 145,
   "id": "center-inside",
   "metadata": {},
   "outputs": [],
   "source": [
    "q3_2015_df = weather_df.where(weather_df.year == 2015).where((weather_df.month == 7) | (weather_df.month == 8) | (weather_df.month == 9))"
   ]
  },
  {
   "cell_type": "code",
   "execution_count": 147,
   "id": "respective-blogger",
   "metadata": {},
   "outputs": [
    {
     "data": {
      "text/plain": [
       "0.021739130434782608"
      ]
     },
     "execution_count": 147,
     "metadata": {},
     "output_type": "execute_result"
    }
   ],
   "source": [
    "q3_2015_df.where(q3_2015_df.weather == \"rain\").count() / q3_2015_df.count()"
   ]
  },
  {
   "cell_type": "markdown",
   "id": "consistent-change",
   "metadata": {},
   "source": [
    "* For each year, find what percentage of days it rained (had non-zero precipitation)."
   ]
  },
  {
   "cell_type": "code",
   "execution_count": 168,
   "id": "outstanding-youth",
   "metadata": {},
   "outputs": [],
   "source": [
    "days_of_rain_df = weather_df.where(weather_df.precipitation > 0).groupby('year').count()"
   ]
  },
  {
   "cell_type": "code",
   "execution_count": 174,
   "id": "arabic-cedar",
   "metadata": {},
   "outputs": [
    {
     "name": "stdout",
     "output_type": "stream",
     "text": [
      "+-------------------+\n",
      "| pct_year_with_rain|\n",
      "+-------------------+\n",
      "|0.39452054794520547|\n",
      "|0.41643835616438357|\n",
      "|  0.410958904109589|\n",
      "| 0.4849315068493151|\n",
      "+-------------------+\n",
      "\n"
     ]
    }
   ],
   "source": [
    "days_of_rain_df.select((days_of_rain_df['count'] / 365).alias('pct_year_with_rain')).show()"
   ]
  },
  {
   "cell_type": "code",
   "execution_count": null,
   "id": "recreational-kingston",
   "metadata": {},
   "outputs": [],
   "source": []
  }
 ],
 "metadata": {
  "kernelspec": {
   "display_name": "Python 3",
   "language": "python",
   "name": "python3"
  },
  "language_info": {
   "codemirror_mode": {
    "name": "ipython",
    "version": 3
   },
   "file_extension": ".py",
   "mimetype": "text/x-python",
   "name": "python",
   "nbconvert_exporter": "python",
   "pygments_lexer": "ipython3",
   "version": "3.8.5"
  }
 },
 "nbformat": 4,
 "nbformat_minor": 5
}
