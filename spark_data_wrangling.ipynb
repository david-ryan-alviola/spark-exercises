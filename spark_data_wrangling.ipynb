{
 "cells": [
  {
   "cell_type": "code",
   "execution_count": 1,
   "id": "miniature-azerbaijan",
   "metadata": {},
   "outputs": [],
   "source": [
    "import env\n",
    "import pandas as pd\n",
    "import pyspark\n",
    "\n",
    "from pyspark.sql.functions import concat, sum, avg, min, max, count, mean, lit, when, asc, desc, expr, to_timestamp, datediff, current_timestamp,\\\n",
    "year, month, quarter\n",
    "from pyspark.sql.types import StructType, StructField, StringType\n",
    "\n",
    "spark = pyspark.sql.SparkSession.builder.getOrCreate()"
   ]
  },
  {
   "cell_type": "markdown",
   "id": "dense-circus",
   "metadata": {},
   "source": [
    "1. Read the case, department, and source data into their own spark dataframes."
   ]
  },
  {
   "cell_type": "code",
   "execution_count": 2,
   "id": "resistant-ranch",
   "metadata": {},
   "outputs": [],
   "source": [
    "source_df = spark.read.csv(env.data_path + \"source.csv\", sep=\",\", header=True, inferSchema=True)"
   ]
  },
  {
   "cell_type": "code",
   "execution_count": 3,
   "id": "raising-principle",
   "metadata": {},
   "outputs": [],
   "source": [
    "case_df = spark.read.csv(env.data_path + \"case.csv\", sep=\",\", header=True, inferSchema=True)"
   ]
  },
  {
   "cell_type": "code",
   "execution_count": 4,
   "id": "theoretical-sacramento",
   "metadata": {},
   "outputs": [],
   "source": [
    "dept_df = spark.read.csv(env.data_path + \"dept.csv\", sep=\",\", header=True, inferSchema=True)"
   ]
  },
  {
   "cell_type": "markdown",
   "id": "parallel-auction",
   "metadata": {},
   "source": [
    "2. Let's see how writing to the local disk works in spark:\n",
    "* Write the code necessary to store the source data in both csv and json format, store these as sources_csv and sources_json"
   ]
  },
  {
   "cell_type": "code",
   "execution_count": 5,
   "id": "fossil-lottery",
   "metadata": {},
   "outputs": [],
   "source": [
    "source_df.write.json(env.data_path + \"source_json\", mode=\"overwrite\")\n",
    "source_df.write.csv(env.data_path + \"source_csv\", mode=\"overwrite\")"
   ]
  },
  {
   "cell_type": "code",
   "execution_count": 6,
   "id": "mechanical-beaver",
   "metadata": {},
   "outputs": [],
   "source": [
    "case_df.write.json(env.data_path + \"case_json\", mode=\"overwrite\")\n",
    "case_df.write.csv(env.data_path + \"case_csv\", mode=\"overwrite\")"
   ]
  },
  {
   "cell_type": "code",
   "execution_count": 7,
   "id": "aggressive-apple",
   "metadata": {},
   "outputs": [],
   "source": [
    "dept_df.write.json(env.data_path + \"dept_json\", mode=\"overwrite\")\n",
    "dept_df.write.csv(env.data_path + \"dept_csv\", mode=\"overwrite\")"
   ]
  },
  {
   "cell_type": "markdown",
   "id": "asian-notebook",
   "metadata": {},
   "source": [
    "* Inspect your folder structure. What do you notice?\n",
    "> A folder with the specified name is created with several files inside of the specified file type."
   ]
  },
  {
   "cell_type": "markdown",
   "id": "successful-masters",
   "metadata": {},
   "source": [
    "3. Inspect the data in your dataframes. Are the data types appropriate? Write the code necessary to cast the values to the appropriate types."
   ]
  },
  {
   "cell_type": "code",
   "execution_count": 8,
   "id": "paperback-profile",
   "metadata": {},
   "outputs": [
    {
     "name": "stdout",
     "output_type": "stream",
     "text": [
      "root\n",
      " |-- source_id: string (nullable = true)\n",
      " |-- source_username: string (nullable = true)\n",
      "\n"
     ]
    }
   ],
   "source": [
    "source_df.printSchema()"
   ]
  },
  {
   "cell_type": "markdown",
   "id": "bacterial-attraction",
   "metadata": {},
   "source": [
    "Looks good, but primary keys really shouldn't be nullable, but I could not figure out how to change it."
   ]
  },
  {
   "cell_type": "code",
   "execution_count": 9,
   "id": "freelance-yellow",
   "metadata": {},
   "outputs": [
    {
     "name": "stdout",
     "output_type": "stream",
     "text": [
      "+---------+----------------+\n",
      "|source_id| source_username|\n",
      "+---------+----------------+\n",
      "|   100137|Merlene Blodgett|\n",
      "|   103582|     Carmen Cura|\n",
      "|   106463| Richard Sanchez|\n",
      "|   119403|  Betty De Hoyos|\n",
      "|   119555|  Socorro Quiara|\n",
      "+---------+----------------+\n",
      "only showing top 5 rows\n",
      "\n"
     ]
    }
   ],
   "source": [
    "source_df.show(5)"
   ]
  },
  {
   "cell_type": "code",
   "execution_count": 10,
   "id": "higher-bahamas",
   "metadata": {},
   "outputs": [
    {
     "name": "stdout",
     "output_type": "stream",
     "text": [
      "root\n",
      " |-- case_id: integer (nullable = true)\n",
      " |-- case_opened_date: string (nullable = true)\n",
      " |-- case_closed_date: string (nullable = true)\n",
      " |-- SLA_due_date: string (nullable = true)\n",
      " |-- case_late: string (nullable = true)\n",
      " |-- num_days_late: double (nullable = true)\n",
      " |-- case_closed: string (nullable = true)\n",
      " |-- dept_division: string (nullable = true)\n",
      " |-- service_request_type: string (nullable = true)\n",
      " |-- SLA_days: double (nullable = true)\n",
      " |-- case_status: string (nullable = true)\n",
      " |-- source_id: string (nullable = true)\n",
      " |-- request_address: string (nullable = true)\n",
      " |-- council_district: integer (nullable = true)\n",
      "\n"
     ]
    }
   ],
   "source": [
    "case_df.printSchema()"
   ]
  },
  {
   "cell_type": "markdown",
   "id": "tamil-catch",
   "metadata": {},
   "source": [
    "* case_id should be converted to string values\n",
    "* dates should be timestamps\n",
    "* rename columns with uppercase characters\n",
    "* YES/NO columns should be booleans\n",
    "* council_district should be a string"
   ]
  },
  {
   "cell_type": "code",
   "execution_count": 11,
   "id": "unnecessary-flash",
   "metadata": {},
   "outputs": [
    {
     "name": "stdout",
     "output_type": "stream",
     "text": [
      "-RECORD 0-----------------------------------------------------\n",
      " case_id              | 1014127332                            \n",
      " case_opened_date     | 1/1/18 0:42                           \n",
      " case_closed_date     | 1/1/18 12:29                          \n",
      " SLA_due_date         | 9/26/20 0:42                          \n",
      " case_late            | NO                                    \n",
      " num_days_late        | -998.5087616000001                    \n",
      " case_closed          | YES                                   \n",
      " dept_division        | Field Operations                      \n",
      " service_request_type | Stray Animal                          \n",
      " SLA_days             | 999.0                                 \n",
      " case_status          | Closed                                \n",
      " source_id            | svcCRMLS                              \n",
      " request_address      | 2315  EL PASO ST, San Antonio, 78207  \n",
      " council_district     | 5                                     \n",
      "-RECORD 1-----------------------------------------------------\n",
      " case_id              | 1014127333                            \n",
      " case_opened_date     | 1/1/18 0:46                           \n",
      " case_closed_date     | 1/3/18 8:11                           \n",
      " SLA_due_date         | 1/5/18 8:30                           \n",
      " case_late            | NO                                    \n",
      " num_days_late        | -2.0126041669999997                   \n",
      " case_closed          | YES                                   \n",
      " dept_division        | Storm Water                           \n",
      " service_request_type | Removal Of Obstruction                \n",
      " SLA_days             | 4.322222222                           \n",
      " case_status          | Closed                                \n",
      " source_id            | svcCRMSS                              \n",
      " request_address      | 2215  GOLIAD RD, San Antonio, 78223   \n",
      " council_district     | 3                                     \n",
      "-RECORD 2-----------------------------------------------------\n",
      " case_id              | 1014127334                            \n",
      " case_opened_date     | 1/1/18 0:48                           \n",
      " case_closed_date     | 1/2/18 7:57                           \n",
      " SLA_due_date         | 1/5/18 8:30                           \n",
      " case_late            | NO                                    \n",
      " num_days_late        | -3.022337963                          \n",
      " case_closed          | YES                                   \n",
      " dept_division        | Storm Water                           \n",
      " service_request_type | Removal Of Obstruction                \n",
      " SLA_days             | 4.320729167                           \n",
      " case_status          | Closed                                \n",
      " source_id            | svcCRMSS                              \n",
      " request_address      | 102  PALFREY ST W, San Antonio, 78223 \n",
      " council_district     | 3                                     \n",
      "-RECORD 3-----------------------------------------------------\n",
      " case_id              | 1014127335                            \n",
      " case_opened_date     | 1/1/18 1:29                           \n",
      " case_closed_date     | 1/2/18 8:13                           \n",
      " SLA_due_date         | 1/17/18 8:30                          \n",
      " case_late            | NO                                    \n",
      " num_days_late        | -15.01148148                          \n",
      " case_closed          | YES                                   \n",
      " dept_division        | Code Enforcement                      \n",
      " service_request_type | Front Or Side Yard Parking            \n",
      " SLA_days             | 16.29188657                           \n",
      " case_status          | Closed                                \n",
      " source_id            | svcCRMSS                              \n",
      " request_address      | 114  LA GARDE ST, San Antonio, 78223  \n",
      " council_district     | 3                                     \n",
      "-RECORD 4-----------------------------------------------------\n",
      " case_id              | 1014127336                            \n",
      " case_opened_date     | 1/1/18 1:34                           \n",
      " case_closed_date     | 1/1/18 13:29                          \n",
      " SLA_due_date         | 1/1/18 4:34                           \n",
      " case_late            | YES                                   \n",
      " num_days_late        | 0.37216435200000003                   \n",
      " case_closed          | YES                                   \n",
      " dept_division        | Field Operations                      \n",
      " service_request_type | Animal Cruelty(Critical)              \n",
      " SLA_days             | 0.125                                 \n",
      " case_status          | Closed                                \n",
      " source_id            | svcCRMSS                              \n",
      " request_address      | 734  CLEARVIEW DR, San Antonio, 78228 \n",
      " council_district     | 7                                     \n",
      "only showing top 5 rows\n",
      "\n"
     ]
    }
   ],
   "source": [
    "case_df.show(5, vertical=True, truncate=False)"
   ]
  },
  {
   "cell_type": "code",
   "execution_count": 12,
   "id": "emotional-scheduling",
   "metadata": {},
   "outputs": [],
   "source": [
    "# Convert to string values\n",
    "case_df = case_df.withColumn(\"case_id\", case_df.case_id.cast(\"string\"))\n",
    "case_df = case_df.withColumn(\"council_district\", case_df.council_district.cast(\"string\"))"
   ]
  },
  {
   "cell_type": "code",
   "execution_count": 13,
   "id": "welcome-recorder",
   "metadata": {},
   "outputs": [
    {
     "name": "stdout",
     "output_type": "stream",
     "text": [
      "root\n",
      " |-- case_id: string (nullable = true)\n",
      " |-- case_opened_date: string (nullable = true)\n",
      " |-- case_closed_date: string (nullable = true)\n",
      " |-- SLA_due_date: string (nullable = true)\n",
      " |-- case_late: string (nullable = true)\n",
      " |-- num_days_late: double (nullable = true)\n",
      " |-- case_closed: string (nullable = true)\n",
      " |-- dept_division: string (nullable = true)\n",
      " |-- service_request_type: string (nullable = true)\n",
      " |-- SLA_days: double (nullable = true)\n",
      " |-- case_status: string (nullable = true)\n",
      " |-- source_id: string (nullable = true)\n",
      " |-- request_address: string (nullable = true)\n",
      " |-- council_district: string (nullable = true)\n",
      "\n"
     ]
    }
   ],
   "source": [
    "case_df.printSchema()"
   ]
  },
  {
   "cell_type": "code",
   "execution_count": 14,
   "id": "large-skill",
   "metadata": {},
   "outputs": [],
   "source": [
    "# Rename columns with uppercase characters\n",
    "case_df = case_df.withColumnRenamed('SLA_due_date', 'sla_due_date').withColumnRenamed('SLA_days', 'sla_days')"
   ]
  },
  {
   "cell_type": "code",
   "execution_count": 15,
   "id": "billion-oliver",
   "metadata": {},
   "outputs": [
    {
     "name": "stdout",
     "output_type": "stream",
     "text": [
      "root\n",
      " |-- case_id: string (nullable = true)\n",
      " |-- case_opened_date: string (nullable = true)\n",
      " |-- case_closed_date: string (nullable = true)\n",
      " |-- sla_due_date: string (nullable = true)\n",
      " |-- case_late: string (nullable = true)\n",
      " |-- num_days_late: double (nullable = true)\n",
      " |-- case_closed: string (nullable = true)\n",
      " |-- dept_division: string (nullable = true)\n",
      " |-- service_request_type: string (nullable = true)\n",
      " |-- sla_days: double (nullable = true)\n",
      " |-- case_status: string (nullable = true)\n",
      " |-- source_id: string (nullable = true)\n",
      " |-- request_address: string (nullable = true)\n",
      " |-- council_district: string (nullable = true)\n",
      "\n"
     ]
    }
   ],
   "source": [
    "case_df.printSchema()"
   ]
  },
  {
   "cell_type": "code",
   "execution_count": 16,
   "id": "necessary-agenda",
   "metadata": {},
   "outputs": [],
   "source": [
    "# Convert YES/NO columns to booleans\n",
    "case_df = case_df.withColumn(\"case_closed\", expr('case_closed == \"YES\"')).withColumn(\"case_late\", expr('case_late == \"YES\"'))"
   ]
  },
  {
   "cell_type": "code",
   "execution_count": 17,
   "id": "tender-pontiac",
   "metadata": {},
   "outputs": [
    {
     "name": "stdout",
     "output_type": "stream",
     "text": [
      "root\n",
      " |-- case_id: string (nullable = true)\n",
      " |-- case_opened_date: string (nullable = true)\n",
      " |-- case_closed_date: string (nullable = true)\n",
      " |-- sla_due_date: string (nullable = true)\n",
      " |-- case_late: boolean (nullable = true)\n",
      " |-- num_days_late: double (nullable = true)\n",
      " |-- case_closed: boolean (nullable = true)\n",
      " |-- dept_division: string (nullable = true)\n",
      " |-- service_request_type: string (nullable = true)\n",
      " |-- sla_days: double (nullable = true)\n",
      " |-- case_status: string (nullable = true)\n",
      " |-- source_id: string (nullable = true)\n",
      " |-- request_address: string (nullable = true)\n",
      " |-- council_district: string (nullable = true)\n",
      "\n"
     ]
    }
   ],
   "source": [
    "case_df.printSchema()"
   ]
  },
  {
   "cell_type": "code",
   "execution_count": 18,
   "id": "lyric-attendance",
   "metadata": {},
   "outputs": [],
   "source": [
    "# Convert dates to timestamps\n",
    "fmt = \"M/d/yy H:mm\"\n",
    "case_df = (\n",
    "    case_df.withColumn(\"case_opened_date\", to_timestamp(\"case_opened_date\", fmt))\n",
    "    .withColumn(\"case_closed_date\", to_timestamp(\"case_opened_date\", fmt))\n",
    "    .withColumn(\"case_due_date\", to_timestamp(\"case_opened_date\", fmt))\n",
    "    .withColumn(\"sla_due_date\", to_timestamp(\"sla_due_date\", fmt))\n",
    ")"
   ]
  },
  {
   "cell_type": "code",
   "execution_count": 19,
   "id": "respiratory-aquatic",
   "metadata": {},
   "outputs": [
    {
     "name": "stdout",
     "output_type": "stream",
     "text": [
      "root\n",
      " |-- case_id: string (nullable = true)\n",
      " |-- case_opened_date: timestamp (nullable = true)\n",
      " |-- case_closed_date: timestamp (nullable = true)\n",
      " |-- sla_due_date: timestamp (nullable = true)\n",
      " |-- case_late: boolean (nullable = true)\n",
      " |-- num_days_late: double (nullable = true)\n",
      " |-- case_closed: boolean (nullable = true)\n",
      " |-- dept_division: string (nullable = true)\n",
      " |-- service_request_type: string (nullable = true)\n",
      " |-- sla_days: double (nullable = true)\n",
      " |-- case_status: string (nullable = true)\n",
      " |-- source_id: string (nullable = true)\n",
      " |-- request_address: string (nullable = true)\n",
      " |-- council_district: string (nullable = true)\n",
      " |-- case_due_date: timestamp (nullable = true)\n",
      "\n"
     ]
    }
   ],
   "source": [
    "case_df.printSchema()"
   ]
  },
  {
   "cell_type": "code",
   "execution_count": 20,
   "id": "pharmaceutical-treasury",
   "metadata": {},
   "outputs": [
    {
     "name": "stdout",
     "output_type": "stream",
     "text": [
      "root\n",
      " |-- dept_division: string (nullable = true)\n",
      " |-- dept_name: string (nullable = true)\n",
      " |-- standardized_dept_name: string (nullable = true)\n",
      " |-- dept_subject_to_SLA: string (nullable = true)\n",
      "\n"
     ]
    }
   ],
   "source": [
    "dept_df.printSchema()"
   ]
  },
  {
   "cell_type": "markdown",
   "id": "graduate-position",
   "metadata": {},
   "source": [
    "* rename dept_subject_to_SLA\n",
    "* convert YES/NO column to boolean"
   ]
  },
  {
   "cell_type": "code",
   "execution_count": 21,
   "id": "impressive-stocks",
   "metadata": {},
   "outputs": [
    {
     "name": "stdout",
     "output_type": "stream",
     "text": [
      "+--------------------+--------------------+----------------------+-------------------+\n",
      "|       dept_division|           dept_name|standardized_dept_name|dept_subject_to_SLA|\n",
      "+--------------------+--------------------+----------------------+-------------------+\n",
      "|     311 Call Center|    Customer Service|      Customer Service|                YES|\n",
      "|               Brush|Solid Waste Manag...|           Solid Waste|                YES|\n",
      "|     Clean and Green|Parks and Recreation|    Parks & Recreation|                YES|\n",
      "|Clean and Green N...|Parks and Recreation|    Parks & Recreation|                YES|\n",
      "|    Code Enforcement|Code Enforcement ...|  DSD/Code Enforcement|                YES|\n",
      "+--------------------+--------------------+----------------------+-------------------+\n",
      "only showing top 5 rows\n",
      "\n"
     ]
    }
   ],
   "source": [
    "dept_df.show(5)"
   ]
  },
  {
   "cell_type": "code",
   "execution_count": 22,
   "id": "ready-subscriber",
   "metadata": {},
   "outputs": [],
   "source": [
    "dept_df = dept_df.withColumnRenamed('dept_subject_to_SLA', 'dept_subject_to_sla')\n",
    "dept_df = dept_df.withColumn(\"dept_subject_to_sla\", expr('dept_subject_to_sla == \"YES\"'))"
   ]
  },
  {
   "cell_type": "code",
   "execution_count": 23,
   "id": "parliamentary-buyer",
   "metadata": {},
   "outputs": [
    {
     "name": "stdout",
     "output_type": "stream",
     "text": [
      "root\n",
      " |-- dept_division: string (nullable = true)\n",
      " |-- dept_name: string (nullable = true)\n",
      " |-- standardized_dept_name: string (nullable = true)\n",
      " |-- dept_subject_to_sla: boolean (nullable = true)\n",
      "\n"
     ]
    }
   ],
   "source": [
    "dept_df.printSchema()"
   ]
  },
  {
   "cell_type": "markdown",
   "id": "configured-inclusion",
   "metadata": {},
   "source": [
    "1. How old is the latest (in terms of days past SLA) currently open issue? How long has the oldest (in terms of days since opened) currently opened issue been open?"
   ]
  },
  {
   "cell_type": "code",
   "execution_count": 24,
   "id": "married-clinton",
   "metadata": {},
   "outputs": [],
   "source": [
    "open_cases = case_df.where(case_df.case_closed == False)"
   ]
  },
  {
   "cell_type": "code",
   "execution_count": 25,
   "id": "minus-baker",
   "metadata": {},
   "outputs": [
    {
     "name": "stdout",
     "output_type": "stream",
     "text": [
      "-RECORD 0------------------------------------\n",
      " case_id              | 1014128388           \n",
      " case_opened_date     | 2018-01-02 09:39:00  \n",
      " case_closed_date     | 2018-01-02 09:39:00  \n",
      " sla_due_date         | 2018-01-09 09:39:00  \n",
      " case_late            | true                 \n",
      " num_days_late        | 211.5974884          \n",
      " case_closed          | false                \n",
      " dept_division        | 311 Call Center      \n",
      " service_request_type | Complaint            \n",
      " sla_days             | 7.0                  \n",
      " case_status          | Open                 \n",
      " source_id            | mt13131              \n",
      " request_address      | 7326  WESTGLADE P... \n",
      " council_district     | 6                    \n",
      " case_due_date        | 2018-01-02 09:39:00  \n",
      "-RECORD 1------------------------------------\n",
      " case_id              | 1014128790           \n",
      " case_opened_date     | 2018-01-02 10:49:00  \n",
      " case_closed_date     | 2018-01-02 10:49:00  \n",
      " sla_due_date         | 2018-05-10 10:49:00  \n",
      " case_late            | true                 \n",
      " num_days_late        | 90.54925926          \n",
      " case_closed          | false                \n",
      " dept_division        | Dangerous Premise    \n",
      " service_request_type | DSDB Ordered/Hold... \n",
      " sla_days             | 128.0                \n",
      " case_status          | Open                 \n",
      " source_id            | CRM_Listener         \n",
      " request_address      | 2202  POTOSI ST, ... \n",
      " council_district     | 5                    \n",
      " case_due_date        | 2018-01-02 10:49:00  \n",
      "-RECORD 2------------------------------------\n",
      " case_id              | 1014129873           \n",
      " case_opened_date     | 2018-01-02 13:45:00  \n",
      " case_closed_date     | 2018-01-02 13:45:00  \n",
      " sla_due_date         | 2018-03-07 13:45:00  \n",
      " case_late            | true                 \n",
      " num_days_late        | 154.4266551          \n",
      " case_closed          | false                \n",
      " dept_division        | Code Enforcement     \n",
      " service_request_type | Permits Building     \n",
      " sla_days             | 64.0                 \n",
      " case_status          | Open                 \n",
      " source_id            | CRM_Listener         \n",
      " request_address      | 3304  FREDSBG RD,... \n",
      " council_district     | 1                    \n",
      " case_due_date        | 2018-01-02 13:45:00  \n",
      "-RECORD 3------------------------------------\n",
      " case_id              | 1014129956           \n",
      " case_opened_date     | 2018-01-02 14:09:00  \n",
      " case_closed_date     | 2018-01-02 14:09:00  \n",
      " sla_due_date         | 2018-05-10 14:09:00  \n",
      " case_late            | true                 \n",
      " num_days_late        | 90.41039352          \n",
      " case_closed          | false                \n",
      " dept_division        | Engineering Division \n",
      " service_request_type | Street Light Exis... \n",
      " sla_days             | 128.0000116          \n",
      " case_status          | Open                 \n",
      " source_id            | 139344               \n",
      " request_address      | 135  VITRA, San A... \n",
      " council_district     | 1                    \n",
      " case_due_date        | 2018-01-02 14:09:00  \n",
      "-RECORD 4------------------------------------\n",
      " case_id              | 1014130090           \n",
      " case_opened_date     | 2018-01-02 14:34:00  \n",
      " case_closed_date     | 2018-01-02 14:34:00  \n",
      " sla_due_date         | 2018-05-10 14:34:00  \n",
      " case_late            | true                 \n",
      " num_days_late        | 90.39277778          \n",
      " case_closed          | false                \n",
      " dept_division        | Dangerous Premise    \n",
      " service_request_type | DSDB Ordered/Hold... \n",
      " sla_days             | 128.0                \n",
      " case_status          | Open                 \n",
      " source_id            | CRM_Listener         \n",
      " request_address      | 150  ALLENDALE, S... \n",
      " council_district     | 5                    \n",
      " case_due_date        | 2018-01-02 14:34:00  \n",
      "only showing top 5 rows\n",
      "\n"
     ]
    }
   ],
   "source": [
    "open_cases.select(\"*\").show(5, vertical=True)"
   ]
  },
  {
   "cell_type": "code",
   "execution_count": 26,
   "id": "romance-rally",
   "metadata": {},
   "outputs": [],
   "source": [
    "open_cases = open_cases.withColumn('days_past_sla', datediff(current_timestamp(), 'sla_due_date'))\\\n",
    ".withColumn('days_open', datediff(current_timestamp(), 'case_opened_date'))"
   ]
  },
  {
   "cell_type": "code",
   "execution_count": 27,
   "id": "characteristic-rogers",
   "metadata": {},
   "outputs": [
    {
     "name": "stdout",
     "output_type": "stream",
     "text": [
      "-RECORD 0------------------------------------\n",
      " case_id              | 1013225646           \n",
      " case_opened_date     | 2017-01-01 13:48:00  \n",
      " case_closed_date     | 2017-01-01 13:48:00  \n",
      " sla_due_date         | 2017-01-17 08:30:00  \n",
      " case_late            | true                 \n",
      " num_days_late        | 348.6458333          \n",
      " case_closed          | false                \n",
      " dept_division        | Code Enforcement     \n",
      " service_request_type | No Address Posted    \n",
      " sla_days             | 15.77859954          \n",
      " case_status          | Open                 \n",
      " source_id            | svcCRMSS             \n",
      " request_address      | 7299  SHADOW RIDG... \n",
      " council_district     | 6                    \n",
      " case_due_date        | 2017-01-01 13:48:00  \n",
      " days_past_sla        | 1581                 \n",
      " days_open            | 1597                 \n",
      "only showing top 1 row\n",
      "\n"
     ]
    }
   ],
   "source": [
    "open_cases.sort(desc('days_past_sla')).show(1, vertical=True)"
   ]
  },
  {
   "cell_type": "code",
   "execution_count": 28,
   "id": "gentle-proof",
   "metadata": {},
   "outputs": [
    {
     "name": "stdout",
     "output_type": "stream",
     "text": [
      "-RECORD 0------------------------------------\n",
      " case_id              | 1013225646           \n",
      " case_opened_date     | 2017-01-01 13:48:00  \n",
      " case_closed_date     | 2017-01-01 13:48:00  \n",
      " sla_due_date         | 2017-01-17 08:30:00  \n",
      " case_late            | true                 \n",
      " num_days_late        | 348.6458333          \n",
      " case_closed          | false                \n",
      " dept_division        | Code Enforcement     \n",
      " service_request_type | No Address Posted    \n",
      " sla_days             | 15.77859954          \n",
      " case_status          | Open                 \n",
      " source_id            | svcCRMSS             \n",
      " request_address      | 7299  SHADOW RIDG... \n",
      " council_district     | 6                    \n",
      " case_due_date        | 2017-01-01 13:48:00  \n",
      " days_past_sla        | 1581                 \n",
      " days_open            | 1597                 \n",
      "only showing top 1 row\n",
      "\n"
     ]
    }
   ],
   "source": [
    "open_cases.sort(desc('days_open')).show(1, vertical=True)"
   ]
  },
  {
   "cell_type": "markdown",
   "id": "million-soviet",
   "metadata": {},
   "source": [
    "2. How many Stray Animal cases are there?"
   ]
  },
  {
   "cell_type": "code",
   "execution_count": 29,
   "id": "present-appendix",
   "metadata": {},
   "outputs": [
    {
     "data": {
      "text/plain": [
       "26760"
      ]
     },
     "execution_count": 29,
     "metadata": {},
     "output_type": "execute_result"
    }
   ],
   "source": [
    "case_df.where(expr(\"service_request_type = 'Stray Animal'\")).count()"
   ]
  },
  {
   "cell_type": "markdown",
   "id": "dietary-adapter",
   "metadata": {},
   "source": [
    "3. How many service requests that are assigned to the Field Operations department (dept_division) are not classified as \"Officer Standby\" request type (service_request_type)?"
   ]
  },
  {
   "cell_type": "code",
   "execution_count": 30,
   "id": "concrete-warrior",
   "metadata": {},
   "outputs": [
    {
     "data": {
      "text/plain": [
       "113902"
      ]
     },
     "execution_count": 30,
     "metadata": {},
     "output_type": "execute_result"
    }
   ],
   "source": [
    "case_df.where(case_df.dept_division == \"Field Operations\").where(case_df.service_request_type != \"Officer Standby\").count()"
   ]
  },
  {
   "cell_type": "markdown",
   "id": "warming-eating",
   "metadata": {},
   "source": [
    "4. Convert the council_district column to a string column.\n",
    "* Performed during preparation"
   ]
  },
  {
   "cell_type": "code",
   "execution_count": 31,
   "id": "included-sending",
   "metadata": {},
   "outputs": [
    {
     "name": "stdout",
     "output_type": "stream",
     "text": [
      "root\n",
      " |-- case_id: string (nullable = true)\n",
      " |-- case_opened_date: timestamp (nullable = true)\n",
      " |-- case_closed_date: timestamp (nullable = true)\n",
      " |-- sla_due_date: timestamp (nullable = true)\n",
      " |-- case_late: boolean (nullable = true)\n",
      " |-- num_days_late: double (nullable = true)\n",
      " |-- case_closed: boolean (nullable = true)\n",
      " |-- dept_division: string (nullable = true)\n",
      " |-- service_request_type: string (nullable = true)\n",
      " |-- sla_days: double (nullable = true)\n",
      " |-- case_status: string (nullable = true)\n",
      " |-- source_id: string (nullable = true)\n",
      " |-- request_address: string (nullable = true)\n",
      " |-- council_district: string (nullable = true)\n",
      " |-- case_due_date: timestamp (nullable = true)\n",
      "\n"
     ]
    }
   ],
   "source": [
    "case_df.printSchema()"
   ]
  },
  {
   "cell_type": "markdown",
   "id": "capital-jewel",
   "metadata": {},
   "source": [
    "5. Extract the year from the case_closed_date column."
   ]
  },
  {
   "cell_type": "code",
   "execution_count": 32,
   "id": "anticipated-slovenia",
   "metadata": {},
   "outputs": [],
   "source": [
    "case_df = case_df.select(\"*\", year(case_df.case_closed_date).alias('year_closed'))"
   ]
  },
  {
   "cell_type": "code",
   "execution_count": 33,
   "id": "academic-serve",
   "metadata": {},
   "outputs": [
    {
     "name": "stdout",
     "output_type": "stream",
     "text": [
      "-RECORD 0------------------------------------\n",
      " case_id              | 1014127332           \n",
      " case_opened_date     | 2018-01-01 00:42:00  \n",
      " case_closed_date     | 2018-01-01 00:42:00  \n",
      " sla_due_date         | 2020-09-26 00:42:00  \n",
      " case_late            | false                \n",
      " num_days_late        | -998.5087616000001   \n",
      " case_closed          | true                 \n",
      " dept_division        | Field Operations     \n",
      " service_request_type | Stray Animal         \n",
      " sla_days             | 999.0                \n",
      " case_status          | Closed               \n",
      " source_id            | svcCRMLS             \n",
      " request_address      | 2315  EL PASO ST,... \n",
      " council_district     | 5                    \n",
      " case_due_date        | 2018-01-01 00:42:00  \n",
      " year_closed          | 2018                 \n",
      "-RECORD 1------------------------------------\n",
      " case_id              | 1014127333           \n",
      " case_opened_date     | 2018-01-01 00:46:00  \n",
      " case_closed_date     | 2018-01-01 00:46:00  \n",
      " sla_due_date         | 2018-01-05 08:30:00  \n",
      " case_late            | false                \n",
      " num_days_late        | -2.0126041669999997  \n",
      " case_closed          | true                 \n",
      " dept_division        | Storm Water          \n",
      " service_request_type | Removal Of Obstru... \n",
      " sla_days             | 4.322222222          \n",
      " case_status          | Closed               \n",
      " source_id            | svcCRMSS             \n",
      " request_address      | 2215  GOLIAD RD, ... \n",
      " council_district     | 3                    \n",
      " case_due_date        | 2018-01-01 00:46:00  \n",
      " year_closed          | 2018                 \n",
      "-RECORD 2------------------------------------\n",
      " case_id              | 1014127334           \n",
      " case_opened_date     | 2018-01-01 00:48:00  \n",
      " case_closed_date     | 2018-01-01 00:48:00  \n",
      " sla_due_date         | 2018-01-05 08:30:00  \n",
      " case_late            | false                \n",
      " num_days_late        | -3.022337963         \n",
      " case_closed          | true                 \n",
      " dept_division        | Storm Water          \n",
      " service_request_type | Removal Of Obstru... \n",
      " sla_days             | 4.320729167          \n",
      " case_status          | Closed               \n",
      " source_id            | svcCRMSS             \n",
      " request_address      | 102  PALFREY ST W... \n",
      " council_district     | 3                    \n",
      " case_due_date        | 2018-01-01 00:48:00  \n",
      " year_closed          | 2018                 \n",
      "-RECORD 3------------------------------------\n",
      " case_id              | 1014127335           \n",
      " case_opened_date     | 2018-01-01 01:29:00  \n",
      " case_closed_date     | 2018-01-01 01:29:00  \n",
      " sla_due_date         | 2018-01-17 08:30:00  \n",
      " case_late            | false                \n",
      " num_days_late        | -15.01148148         \n",
      " case_closed          | true                 \n",
      " dept_division        | Code Enforcement     \n",
      " service_request_type | Front Or Side Yar... \n",
      " sla_days             | 16.29188657          \n",
      " case_status          | Closed               \n",
      " source_id            | svcCRMSS             \n",
      " request_address      | 114  LA GARDE ST,... \n",
      " council_district     | 3                    \n",
      " case_due_date        | 2018-01-01 01:29:00  \n",
      " year_closed          | 2018                 \n",
      "-RECORD 4------------------------------------\n",
      " case_id              | 1014127336           \n",
      " case_opened_date     | 2018-01-01 01:34:00  \n",
      " case_closed_date     | 2018-01-01 01:34:00  \n",
      " sla_due_date         | 2018-01-01 04:34:00  \n",
      " case_late            | true                 \n",
      " num_days_late        | 0.37216435200000003  \n",
      " case_closed          | true                 \n",
      " dept_division        | Field Operations     \n",
      " service_request_type | Animal Cruelty(Cr... \n",
      " sla_days             | 0.125                \n",
      " case_status          | Closed               \n",
      " source_id            | svcCRMSS             \n",
      " request_address      | 734  CLEARVIEW DR... \n",
      " council_district     | 7                    \n",
      " case_due_date        | 2018-01-01 01:34:00  \n",
      " year_closed          | 2018                 \n",
      "only showing top 5 rows\n",
      "\n"
     ]
    }
   ],
   "source": [
    "case_df.show(5, vertical=True)"
   ]
  },
  {
   "cell_type": "markdown",
   "id": "editorial-optimum",
   "metadata": {},
   "source": [
    "6. Convert num_days_late from days to hours in new columns num_hours_late."
   ]
  },
  {
   "cell_type": "code",
   "execution_count": 36,
   "id": "solved-immune",
   "metadata": {},
   "outputs": [],
   "source": [
    "case_df = case_df.select(\"*\", (case_df.num_days_late * 24).alias('num_hours_late'))"
   ]
  },
  {
   "cell_type": "code",
   "execution_count": 37,
   "id": "civilian-haiti",
   "metadata": {},
   "outputs": [
    {
     "name": "stdout",
     "output_type": "stream",
     "text": [
      "-RECORD 0------------------------------------\n",
      " case_id              | 1014127332           \n",
      " case_opened_date     | 2018-01-01 00:42:00  \n",
      " case_closed_date     | 2018-01-01 00:42:00  \n",
      " sla_due_date         | 2020-09-26 00:42:00  \n",
      " case_late            | false                \n",
      " num_days_late        | -998.5087616000001   \n",
      " case_closed          | true                 \n",
      " dept_division        | Field Operations     \n",
      " service_request_type | Stray Animal         \n",
      " sla_days             | 999.0                \n",
      " case_status          | Closed               \n",
      " source_id            | svcCRMLS             \n",
      " request_address      | 2315  EL PASO ST,... \n",
      " council_district     | 5                    \n",
      " case_due_date        | 2018-01-01 00:42:00  \n",
      " year_closed          | 2018                 \n",
      " num_hours_late       | -23964.2102784       \n",
      "-RECORD 1------------------------------------\n",
      " case_id              | 1014127333           \n",
      " case_opened_date     | 2018-01-01 00:46:00  \n",
      " case_closed_date     | 2018-01-01 00:46:00  \n",
      " sla_due_date         | 2018-01-05 08:30:00  \n",
      " case_late            | false                \n",
      " num_days_late        | -2.0126041669999997  \n",
      " case_closed          | true                 \n",
      " dept_division        | Storm Water          \n",
      " service_request_type | Removal Of Obstru... \n",
      " sla_days             | 4.322222222          \n",
      " case_status          | Closed               \n",
      " source_id            | svcCRMSS             \n",
      " request_address      | 2215  GOLIAD RD, ... \n",
      " council_district     | 3                    \n",
      " case_due_date        | 2018-01-01 00:46:00  \n",
      " year_closed          | 2018                 \n",
      " num_hours_late       | -48.302500007999996  \n",
      "-RECORD 2------------------------------------\n",
      " case_id              | 1014127334           \n",
      " case_opened_date     | 2018-01-01 00:48:00  \n",
      " case_closed_date     | 2018-01-01 00:48:00  \n",
      " sla_due_date         | 2018-01-05 08:30:00  \n",
      " case_late            | false                \n",
      " num_days_late        | -3.022337963         \n",
      " case_closed          | true                 \n",
      " dept_division        | Storm Water          \n",
      " service_request_type | Removal Of Obstru... \n",
      " sla_days             | 4.320729167          \n",
      " case_status          | Closed               \n",
      " source_id            | svcCRMSS             \n",
      " request_address      | 102  PALFREY ST W... \n",
      " council_district     | 3                    \n",
      " case_due_date        | 2018-01-01 00:48:00  \n",
      " year_closed          | 2018                 \n",
      " num_hours_late       | -72.536111112        \n",
      "-RECORD 3------------------------------------\n",
      " case_id              | 1014127335           \n",
      " case_opened_date     | 2018-01-01 01:29:00  \n",
      " case_closed_date     | 2018-01-01 01:29:00  \n",
      " sla_due_date         | 2018-01-17 08:30:00  \n",
      " case_late            | false                \n",
      " num_days_late        | -15.01148148         \n",
      " case_closed          | true                 \n",
      " dept_division        | Code Enforcement     \n",
      " service_request_type | Front Or Side Yar... \n",
      " sla_days             | 16.29188657          \n",
      " case_status          | Closed               \n",
      " source_id            | svcCRMSS             \n",
      " request_address      | 114  LA GARDE ST,... \n",
      " council_district     | 3                    \n",
      " case_due_date        | 2018-01-01 01:29:00  \n",
      " year_closed          | 2018                 \n",
      " num_hours_late       | -360.27555552        \n",
      "-RECORD 4------------------------------------\n",
      " case_id              | 1014127336           \n",
      " case_opened_date     | 2018-01-01 01:34:00  \n",
      " case_closed_date     | 2018-01-01 01:34:00  \n",
      " sla_due_date         | 2018-01-01 04:34:00  \n",
      " case_late            | true                 \n",
      " num_days_late        | 0.37216435200000003  \n",
      " case_closed          | true                 \n",
      " dept_division        | Field Operations     \n",
      " service_request_type | Animal Cruelty(Cr... \n",
      " sla_days             | 0.125                \n",
      " case_status          | Closed               \n",
      " source_id            | svcCRMSS             \n",
      " request_address      | 734  CLEARVIEW DR... \n",
      " council_district     | 7                    \n",
      " case_due_date        | 2018-01-01 01:34:00  \n",
      " year_closed          | 2018                 \n",
      " num_hours_late       | 8.931944448000001    \n",
      "only showing top 5 rows\n",
      "\n"
     ]
    }
   ],
   "source": [
    "case_df.show(5, vertical=True)"
   ]
  },
  {
   "cell_type": "markdown",
   "id": "systematic-right",
   "metadata": {},
   "source": [
    "7. Join the case data with the source and department data."
   ]
  },
  {
   "cell_type": "code",
   "execution_count": 39,
   "id": "worse-violation",
   "metadata": {},
   "outputs": [
    {
     "name": "stdout",
     "output_type": "stream",
     "text": [
      "root\n",
      " |-- source_id: string (nullable = true)\n",
      " |-- source_username: string (nullable = true)\n",
      "\n"
     ]
    }
   ],
   "source": [
    "source_df.printSchema()"
   ]
  },
  {
   "cell_type": "code",
   "execution_count": 43,
   "id": "manual-times",
   "metadata": {},
   "outputs": [
    {
     "name": "stdout",
     "output_type": "stream",
     "text": [
      "-RECORD 0---------------------------\n",
      " source_id       | 100137           \n",
      " source_username | Merlene Blodgett \n",
      "-RECORD 1---------------------------\n",
      " source_id       | 103582           \n",
      " source_username | Carmen Cura      \n",
      "-RECORD 2---------------------------\n",
      " source_id       | 106463           \n",
      " source_username | Richard Sanchez  \n",
      "-RECORD 3---------------------------\n",
      " source_id       | 119403           \n",
      " source_username | Betty De Hoyos   \n",
      "-RECORD 4---------------------------\n",
      " source_id       | 119555           \n",
      " source_username | Socorro Quiara   \n",
      "only showing top 5 rows\n",
      "\n"
     ]
    }
   ],
   "source": [
    "source_df.show(5, vertical=True)"
   ]
  },
  {
   "cell_type": "code",
   "execution_count": 40,
   "id": "oriental-islam",
   "metadata": {},
   "outputs": [
    {
     "name": "stdout",
     "output_type": "stream",
     "text": [
      "root\n",
      " |-- dept_division: string (nullable = true)\n",
      " |-- dept_name: string (nullable = true)\n",
      " |-- standardized_dept_name: string (nullable = true)\n",
      " |-- dept_subject_to_sla: boolean (nullable = true)\n",
      "\n"
     ]
    }
   ],
   "source": [
    "dept_df.printSchema()"
   ]
  },
  {
   "cell_type": "code",
   "execution_count": 44,
   "id": "closing-trading",
   "metadata": {},
   "outputs": [
    {
     "name": "stdout",
     "output_type": "stream",
     "text": [
      "-RECORD 0--------------------------------------\n",
      " dept_division          | 311 Call Center      \n",
      " dept_name              | Customer Service     \n",
      " standardized_dept_name | Customer Service     \n",
      " dept_subject_to_sla    | true                 \n",
      "-RECORD 1--------------------------------------\n",
      " dept_division          | Brush                \n",
      " dept_name              | Solid Waste Manag... \n",
      " standardized_dept_name | Solid Waste          \n",
      " dept_subject_to_sla    | true                 \n",
      "-RECORD 2--------------------------------------\n",
      " dept_division          | Clean and Green      \n",
      " dept_name              | Parks and Recreation \n",
      " standardized_dept_name | Parks & Recreation   \n",
      " dept_subject_to_sla    | true                 \n",
      "-RECORD 3--------------------------------------\n",
      " dept_division          | Clean and Green N... \n",
      " dept_name              | Parks and Recreation \n",
      " standardized_dept_name | Parks & Recreation   \n",
      " dept_subject_to_sla    | true                 \n",
      "-RECORD 4--------------------------------------\n",
      " dept_division          | Code Enforcement     \n",
      " dept_name              | Code Enforcement ... \n",
      " standardized_dept_name | DSD/Code Enforcement \n",
      " dept_subject_to_sla    | true                 \n",
      "only showing top 5 rows\n",
      "\n"
     ]
    }
   ],
   "source": [
    "dept_df.show(5, vertical=True)"
   ]
  },
  {
   "cell_type": "code",
   "execution_count": 48,
   "id": "wired-water",
   "metadata": {},
   "outputs": [],
   "source": [
    "case_df = case_df.join(dept_df, 'dept_division', how=\"left\")"
   ]
  },
  {
   "cell_type": "code",
   "execution_count": 49,
   "id": "lyric-alliance",
   "metadata": {},
   "outputs": [
    {
     "name": "stdout",
     "output_type": "stream",
     "text": [
      "-RECORD 0--------------------------------------\n",
      " dept_division          | Field Operations     \n",
      " case_id                | 1014127332           \n",
      " case_opened_date       | 2018-01-01 00:42:00  \n",
      " case_closed_date       | 2018-01-01 00:42:00  \n",
      " sla_due_date           | 2020-09-26 00:42:00  \n",
      " case_late              | false                \n",
      " num_days_late          | -998.5087616000001   \n",
      " case_closed            | true                 \n",
      " service_request_type   | Stray Animal         \n",
      " sla_days               | 999.0                \n",
      " case_status            | Closed               \n",
      " source_id              | svcCRMLS             \n",
      " request_address        | 2315  EL PASO ST,... \n",
      " council_district       | 5                    \n",
      " case_due_date          | 2018-01-01 00:42:00  \n",
      " year_closed            | 2018                 \n",
      " num_hours_late         | -23964.2102784       \n",
      " dept_name              | Animal Care Services \n",
      " standardized_dept_name | Animal Care Services \n",
      " dept_subject_to_sla    | true                 \n",
      "-RECORD 1--------------------------------------\n",
      " dept_division          | Storm Water          \n",
      " case_id                | 1014127333           \n",
      " case_opened_date       | 2018-01-01 00:46:00  \n",
      " case_closed_date       | 2018-01-01 00:46:00  \n",
      " sla_due_date           | 2018-01-05 08:30:00  \n",
      " case_late              | false                \n",
      " num_days_late          | -2.0126041669999997  \n",
      " case_closed            | true                 \n",
      " service_request_type   | Removal Of Obstru... \n",
      " sla_days               | 4.322222222          \n",
      " case_status            | Closed               \n",
      " source_id              | svcCRMSS             \n",
      " request_address        | 2215  GOLIAD RD, ... \n",
      " council_district       | 3                    \n",
      " case_due_date          | 2018-01-01 00:46:00  \n",
      " year_closed            | 2018                 \n",
      " num_hours_late         | -48.302500007999996  \n",
      " dept_name              | Trans & Cap Impro... \n",
      " standardized_dept_name | Trans & Cap Impro... \n",
      " dept_subject_to_sla    | true                 \n",
      "-RECORD 2--------------------------------------\n",
      " dept_division          | Storm Water          \n",
      " case_id                | 1014127334           \n",
      " case_opened_date       | 2018-01-01 00:48:00  \n",
      " case_closed_date       | 2018-01-01 00:48:00  \n",
      " sla_due_date           | 2018-01-05 08:30:00  \n",
      " case_late              | false                \n",
      " num_days_late          | -3.022337963         \n",
      " case_closed            | true                 \n",
      " service_request_type   | Removal Of Obstru... \n",
      " sla_days               | 4.320729167          \n",
      " case_status            | Closed               \n",
      " source_id              | svcCRMSS             \n",
      " request_address        | 102  PALFREY ST W... \n",
      " council_district       | 3                    \n",
      " case_due_date          | 2018-01-01 00:48:00  \n",
      " year_closed            | 2018                 \n",
      " num_hours_late         | -72.536111112        \n",
      " dept_name              | Trans & Cap Impro... \n",
      " standardized_dept_name | Trans & Cap Impro... \n",
      " dept_subject_to_sla    | true                 \n",
      "-RECORD 3--------------------------------------\n",
      " dept_division          | Code Enforcement     \n",
      " case_id                | 1014127335           \n",
      " case_opened_date       | 2018-01-01 01:29:00  \n",
      " case_closed_date       | 2018-01-01 01:29:00  \n",
      " sla_due_date           | 2018-01-17 08:30:00  \n",
      " case_late              | false                \n",
      " num_days_late          | -15.01148148         \n",
      " case_closed            | true                 \n",
      " service_request_type   | Front Or Side Yar... \n",
      " sla_days               | 16.29188657          \n",
      " case_status            | Closed               \n",
      " source_id              | svcCRMSS             \n",
      " request_address        | 114  LA GARDE ST,... \n",
      " council_district       | 3                    \n",
      " case_due_date          | 2018-01-01 01:29:00  \n",
      " year_closed            | 2018                 \n",
      " num_hours_late         | -360.27555552        \n",
      " dept_name              | Code Enforcement ... \n",
      " standardized_dept_name | DSD/Code Enforcement \n",
      " dept_subject_to_sla    | true                 \n",
      "-RECORD 4--------------------------------------\n",
      " dept_division          | Field Operations     \n",
      " case_id                | 1014127336           \n",
      " case_opened_date       | 2018-01-01 01:34:00  \n",
      " case_closed_date       | 2018-01-01 01:34:00  \n",
      " sla_due_date           | 2018-01-01 04:34:00  \n",
      " case_late              | true                 \n",
      " num_days_late          | 0.37216435200000003  \n",
      " case_closed            | true                 \n",
      " service_request_type   | Animal Cruelty(Cr... \n",
      " sla_days               | 0.125                \n",
      " case_status            | Closed               \n",
      " source_id              | svcCRMSS             \n",
      " request_address        | 734  CLEARVIEW DR... \n",
      " council_district       | 7                    \n",
      " case_due_date          | 2018-01-01 01:34:00  \n",
      " year_closed            | 2018                 \n",
      " num_hours_late         | 8.931944448000001    \n",
      " dept_name              | Animal Care Services \n",
      " standardized_dept_name | Animal Care Services \n",
      " dept_subject_to_sla    | true                 \n",
      "only showing top 5 rows\n",
      "\n"
     ]
    }
   ],
   "source": [
    "case_df.show(5, vertical=True)"
   ]
  },
  {
   "cell_type": "code",
   "execution_count": 50,
   "id": "nasty-picking",
   "metadata": {},
   "outputs": [],
   "source": [
    "case_df = case_df.join(source_df, 'source_id', how=\"left\")"
   ]
  },
  {
   "cell_type": "code",
   "execution_count": 51,
   "id": "velvet-tribune",
   "metadata": {},
   "outputs": [
    {
     "name": "stdout",
     "output_type": "stream",
     "text": [
      "-RECORD 0--------------------------------------\n",
      " source_id              | svcCRMLS             \n",
      " dept_division          | Field Operations     \n",
      " case_id                | 1014127332           \n",
      " case_opened_date       | 2018-01-01 00:42:00  \n",
      " case_closed_date       | 2018-01-01 00:42:00  \n",
      " sla_due_date           | 2020-09-26 00:42:00  \n",
      " case_late              | false                \n",
      " num_days_late          | -998.5087616000001   \n",
      " case_closed            | true                 \n",
      " service_request_type   | Stray Animal         \n",
      " sla_days               | 999.0                \n",
      " case_status            | Closed               \n",
      " request_address        | 2315  EL PASO ST,... \n",
      " council_district       | 5                    \n",
      " case_due_date          | 2018-01-01 00:42:00  \n",
      " year_closed            | 2018                 \n",
      " num_hours_late         | -23964.2102784       \n",
      " dept_name              | Animal Care Services \n",
      " standardized_dept_name | Animal Care Services \n",
      " dept_subject_to_sla    | true                 \n",
      " source_username        | svcCRMLS             \n",
      "only showing top 1 row\n",
      "\n"
     ]
    }
   ],
   "source": [
    "case_df.show(1, vertical=True)"
   ]
  },
  {
   "cell_type": "markdown",
   "id": "brazilian-reform",
   "metadata": {},
   "source": [
    "8. Are there any cases that do not have a request source?"
   ]
  },
  {
   "cell_type": "code",
   "execution_count": 52,
   "id": "conceptual-cover",
   "metadata": {},
   "outputs": [],
   "source": [
    "orig_case_df = spark.read.csv(env.data_path + \"case.csv\", sep=\",\", header=True, inferSchema=True)"
   ]
  },
  {
   "cell_type": "code",
   "execution_count": 60,
   "id": "obvious-creator",
   "metadata": {},
   "outputs": [
    {
     "name": "stdout",
     "output_type": "stream",
     "text": [
      "+-------+----------------+----------------+------------+---------+-------------+-----------+-------------+--------------------+--------+-----------+---------+---------------+----------------+\n",
      "|case_id|case_opened_date|case_closed_date|SLA_due_date|case_late|num_days_late|case_closed|dept_division|service_request_type|SLA_days|case_status|source_id|request_address|council_district|\n",
      "+-------+----------------+----------------+------------+---------+-------------+-----------+-------------+--------------------+--------+-----------+---------+---------------+----------------+\n",
      "+-------+----------------+----------------+------------+---------+-------------+-----------+-------------+--------------------+--------+-----------+---------+---------------+----------------+\n",
      "\n"
     ]
    }
   ],
   "source": [
    "orig_case_df.where(expr(\"source_id is null\")).show()"
   ]
  },
  {
   "cell_type": "code",
   "execution_count": 62,
   "id": "advised-capitol",
   "metadata": {},
   "outputs": [
    {
     "name": "stdout",
     "output_type": "stream",
     "text": [
      "<class 'pandas.core.frame.DataFrame'>\n",
      "RangeIndex: 841704 entries, 0 to 841703\n",
      "Data columns (total 14 columns):\n",
      " #   Column                Non-Null Count   Dtype  \n",
      "---  ------                --------------   -----  \n",
      " 0   case_id               841704 non-null  int32  \n",
      " 1   case_opened_date      841704 non-null  object \n",
      " 2   case_closed_date      823594 non-null  object \n",
      " 3   SLA_due_date          841671 non-null  object \n",
      " 4   case_late             841704 non-null  object \n",
      " 5   num_days_late         841671 non-null  float64\n",
      " 6   case_closed           841704 non-null  object \n",
      " 7   dept_division         841704 non-null  object \n",
      " 8   service_request_type  841704 non-null  object \n",
      " 9   SLA_days              841671 non-null  float64\n",
      " 10  case_status           841704 non-null  object \n",
      " 11  source_id             841704 non-null  object \n",
      " 12  request_address       841704 non-null  object \n",
      " 13  council_district      841704 non-null  int32  \n",
      "dtypes: float64(2), int32(2), object(10)\n",
      "memory usage: 83.5+ MB\n"
     ]
    }
   ],
   "source": [
    "case_pandas_df = orig_case_df.toPandas()\n",
    "case_pandas_df.info()"
   ]
  },
  {
   "cell_type": "markdown",
   "id": "surface-leone",
   "metadata": {},
   "source": [
    "9. What are the top 10 service request types in terms of number of requests?"
   ]
  },
  {
   "cell_type": "code",
   "execution_count": 72,
   "id": "traditional-algebra",
   "metadata": {},
   "outputs": [
    {
     "name": "stdout",
     "output_type": "stream",
     "text": [
      "+--------------------------------+-----+\n",
      "|service_request_type            |count|\n",
      "+--------------------------------+-----+\n",
      "|No Pickup                       |89210|\n",
      "|Overgrown Yard/Trash            |66403|\n",
      "|Bandit Signs                    |32968|\n",
      "|Damaged Cart                    |31163|\n",
      "|Front Or Side Yard Parking      |28920|\n",
      "|Stray Animal                    |27361|\n",
      "|Aggressive Animal(Non-Critical) |25492|\n",
      "|Cart Exchange Request           |22608|\n",
      "|Junk Vehicle On Private Property|21649|\n",
      "|Pot Hole Repair                 |20827|\n",
      "+--------------------------------+-----+\n",
      "only showing top 10 rows\n",
      "\n"
     ]
    }
   ],
   "source": [
    "case_df.groupby('service_request_type').count().sort(desc('count')).show(10, truncate=False)"
   ]
  },
  {
   "cell_type": "markdown",
   "id": "republican-confidentiality",
   "metadata": {},
   "source": [
    "10. What are the top 10 service request types in terms of average days late?"
   ]
  },
  {
   "cell_type": "code",
   "execution_count": 71,
   "id": "ordinary-platform",
   "metadata": {},
   "outputs": [
    {
     "name": "stdout",
     "output_type": "stream",
     "text": [
      "+--------------------------------------+------------------+\n",
      "|service_request_type                  |avg(num_days_late)|\n",
      "+--------------------------------------+------------------+\n",
      "|Zoning: Junk Yards                    |175.9563621042095 |\n",
      "|Labeling for Used Mattress            |162.43032902285717|\n",
      "|Record Keeping of Used Mattresses     |153.99724039428568|\n",
      "|Signage Requied for Sale of Used Mattr|151.63868055333333|\n",
      "|Storage of Used Mattress              |142.112556415     |\n",
      "|Zoning: Recycle Yard                  |135.92851612479797|\n",
      "|Donation Container Enforcement        |131.75610506358706|\n",
      "|License Requied Used Mattress Sales   |128.79828704142858|\n",
      "|Traffic Signal Graffiti               |101.79846062200002|\n",
      "|Complaint                             |72.87050230311695 |\n",
      "+--------------------------------------+------------------+\n",
      "only showing top 10 rows\n",
      "\n"
     ]
    }
   ],
   "source": [
    "case_df.groupby('service_request_type').mean('num_days_late').sort(desc('avg(num_days_late)')).show(10, truncate=False)"
   ]
  },
  {
   "cell_type": "markdown",
   "id": "encouraging-plumbing",
   "metadata": {},
   "source": [
    "11. Does number of days late depend on department?"
   ]
  },
  {
   "cell_type": "code",
   "execution_count": 74,
   "id": "emotional-street",
   "metadata": {},
   "outputs": [
    {
     "name": "stdout",
     "output_type": "stream",
     "text": [
      "+-----------------------------+------------------+\n",
      "|dept_division                |avg(num_days_late)|\n",
      "+-----------------------------+------------------+\n",
      "|Code Enforcement (Internal)  |135.92851612479797|\n",
      "|Reservations                 |66.03116319       |\n",
      "|311 Call Center              |59.737091496300785|\n",
      "|Director's Office Horizontal |37.570646702950086|\n",
      "|Engineering Division         |13.43372455586971 |\n",
      "|Shops                        |9.64126176872269  |\n",
      "|Tree Crew                    |4.723282812065399 |\n",
      "|Solid Waste                  |3.5190239198762248|\n",
      "|Trades                       |3.231977141276932 |\n",
      "|Clean and Green Natural Areas|1.691468919487805 |\n",
      "+-----------------------------+------------------+\n",
      "only showing top 10 rows\n",
      "\n"
     ]
    }
   ],
   "source": [
    "# top 10 days late\n",
    "case_df.groupby(\"dept_division\").mean('num_days_late').sort(desc('avg(num_days_late)')).show(10, truncate=False)"
   ]
  },
  {
   "cell_type": "code",
   "execution_count": 82,
   "id": "protected-delicious",
   "metadata": {},
   "outputs": [
    {
     "name": "stdout",
     "output_type": "stream",
     "text": [
      "+--------------------------+-------------------+\n",
      "|dept_division             |avg(num_days_late) |\n",
      "+--------------------------+-------------------+\n",
      "|District 1                |null               |\n",
      "|District 8                |null               |\n",
      "|District 2                |null               |\n",
      "|District 10               |null               |\n",
      "|District 7                |null               |\n",
      "|District 3                |null               |\n",
      "|District 6                |null               |\n",
      "|District 9                |null               |\n",
      "|Field Operations          |-226.51783940550382|\n",
      "|Code Enforcement (IntExp) |-44.468611946863874|\n",
      "|Dangerous Premise (IntExp)|-43.208290572694445|\n",
      "|Graffiti (IntExp)         |-42.53053698481865 |\n",
      "|Dangerous Premise         |-42.23488499754224 |\n",
      "|Code Enforcement          |-38.29709066281329 |\n",
      "|Graffiti                  |-37.66268887237188 |\n",
      "|Traffic Engineering Design|-33.447080017748036|\n",
      "|Signals                   |-28.80952332069453 |\n",
      "|Streets                   |-24.037123211992846|\n",
      "+--------------------------+-------------------+\n",
      "only showing top 18 rows\n",
      "\n"
     ]
    }
   ],
   "source": [
    "# top 10 days ahead\n",
    "case_df.groupby(\"dept_division\").mean('num_days_late').sort(asc('avg(num_days_late)')).show(18, truncate=False)"
   ]
  },
  {
   "cell_type": "markdown",
   "id": "wooden-worse",
   "metadata": {},
   "source": [
    "12. How do number of days late depend on department and request type?"
   ]
  },
  {
   "cell_type": "code",
   "execution_count": 83,
   "id": "recognized-moment",
   "metadata": {},
   "outputs": [
    {
     "name": "stdout",
     "output_type": "stream",
     "text": [
      "+---------------------------+--------------------------------------+------------------+\n",
      "|dept_division              |service_request_type                  |avg(num_days_late)|\n",
      "+---------------------------+--------------------------------------+------------------+\n",
      "|Code Enforcement           |Zoning: Junk Yards                    |175.9563621042095 |\n",
      "|Code Enforcement (IntExp)  |Labeling for Used Mattress            |162.43032902285717|\n",
      "|Code Enforcement (IntExp)  |Record Keeping of Used Mattresses     |153.99724039428568|\n",
      "|Code Enforcement (IntExp)  |Signage Requied for Sale of Used Mattr|151.63868055333333|\n",
      "|Code Enforcement (IntExp)  |Storage of Used Mattress              |142.112556415     |\n",
      "|Code Enforcement (Internal)|Zoning: Recycle Yard                  |135.92851612479797|\n",
      "|Code Enforcement           |Donation Container Enforcement        |131.75610506358706|\n",
      "|Code Enforcement (IntExp)  |License Requied Used Mattress Sales   |128.79828704142858|\n",
      "|Signals                    |Traffic Signal Graffiti               |101.79846062200002|\n",
      "|Code Enforcement (IntExp)  |Used Mattress Inspection              |92.93570056835293 |\n",
      "+---------------------------+--------------------------------------+------------------+\n",
      "only showing top 10 rows\n",
      "\n"
     ]
    }
   ],
   "source": [
    "case_df.groupby('dept_division', 'service_request_type').mean('num_days_late').sort(desc('avg(num_days_late)')).show(10, truncate=False)"
   ]
  },
  {
   "cell_type": "code",
   "execution_count": null,
   "id": "sonic-kelly",
   "metadata": {},
   "outputs": [],
   "source": []
  }
 ],
 "metadata": {
  "kernelspec": {
   "display_name": "Python 3",
   "language": "python",
   "name": "python3"
  },
  "language_info": {
   "codemirror_mode": {
    "name": "ipython",
    "version": 3
   },
   "file_extension": ".py",
   "mimetype": "text/x-python",
   "name": "python",
   "nbconvert_exporter": "python",
   "pygments_lexer": "ipython3",
   "version": "3.8.5"
  }
 },
 "nbformat": 4,
 "nbformat_minor": 5
}
